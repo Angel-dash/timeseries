{
 "cells": [
  {
   "cell_type": "code",
   "execution_count": 1,
   "metadata": {},
   "outputs": [],
   "source": [
    "import numpy as np \n",
    "import pandas as pd"
   ]
  },
  {
   "cell_type": "code",
   "execution_count": 2,
   "metadata": {},
   "outputs": [],
   "source": [
    "df = pd.read_csv('/home/nightwing/Codes/LSTM_for_waterlevel_prediction/Data/processed/data_20240905_171058.csv')"
   ]
  },
  {
   "cell_type": "code",
   "execution_count": 3,
   "metadata": {},
   "outputs": [
    {
     "data": {
      "text/html": [
       "<div>\n",
       "<style scoped>\n",
       "    .dataframe tbody tr th:only-of-type {\n",
       "        vertical-align: middle;\n",
       "    }\n",
       "\n",
       "    .dataframe tbody tr th {\n",
       "        vertical-align: top;\n",
       "    }\n",
       "\n",
       "    .dataframe thead th {\n",
       "        text-align: right;\n",
       "    }\n",
       "</style>\n",
       "<table border=\"1\" class=\"dataframe\">\n",
       "  <thead>\n",
       "    <tr style=\"text-align: right;\">\n",
       "      <th></th>\n",
       "      <th>Timestamp</th>\n",
       "      <th>Rainfall at Nayabazar - Namsaling</th>\n",
       "      <th>Rainfall at Sandakpur - Valley</th>\n",
       "      <th>Water Level at Mai Khola</th>\n",
       "      <th>Rainfall at Mai Beni</th>\n",
       "      <th>Rainfall at Pashupatingar</th>\n",
       "      <th>Rainfall at Sandakpur - Hilltop</th>\n",
       "    </tr>\n",
       "  </thead>\n",
       "  <tbody>\n",
       "    <tr>\n",
       "      <th>0</th>\n",
       "      <td>2024-09-02T00:00:00+00:00</td>\n",
       "      <td>0.0</td>\n",
       "      <td>0.0</td>\n",
       "      <td>NaN</td>\n",
       "      <td>0.0</td>\n",
       "      <td>0.0</td>\n",
       "      <td>0.0</td>\n",
       "    </tr>\n",
       "    <tr>\n",
       "      <th>1</th>\n",
       "      <td>2024-09-02T00:05:00+00:00</td>\n",
       "      <td>NaN</td>\n",
       "      <td>NaN</td>\n",
       "      <td>1.341000</td>\n",
       "      <td>0.0</td>\n",
       "      <td>0.0</td>\n",
       "      <td>0.0</td>\n",
       "    </tr>\n",
       "    <tr>\n",
       "      <th>2</th>\n",
       "      <td>2024-09-02T00:15:00+00:00</td>\n",
       "      <td>0.0</td>\n",
       "      <td>0.0</td>\n",
       "      <td>1.342999</td>\n",
       "      <td>0.0</td>\n",
       "      <td>0.0</td>\n",
       "      <td>0.0</td>\n",
       "    </tr>\n",
       "    <tr>\n",
       "      <th>3</th>\n",
       "      <td>2024-09-02T00:25:00+00:00</td>\n",
       "      <td>NaN</td>\n",
       "      <td>NaN</td>\n",
       "      <td>1.346999</td>\n",
       "      <td>0.0</td>\n",
       "      <td>0.0</td>\n",
       "      <td>0.0</td>\n",
       "    </tr>\n",
       "    <tr>\n",
       "      <th>4</th>\n",
       "      <td>2024-09-02T00:30:00+00:00</td>\n",
       "      <td>0.0</td>\n",
       "      <td>0.0</td>\n",
       "      <td>NaN</td>\n",
       "      <td>0.0</td>\n",
       "      <td>0.0</td>\n",
       "      <td>0.0</td>\n",
       "    </tr>\n",
       "    <tr>\n",
       "      <th>...</th>\n",
       "      <td>...</td>\n",
       "      <td>...</td>\n",
       "      <td>...</td>\n",
       "      <td>...</td>\n",
       "      <td>...</td>\n",
       "      <td>...</td>\n",
       "      <td>...</td>\n",
       "    </tr>\n",
       "    <tr>\n",
       "      <th>662</th>\n",
       "      <td>2024-09-05T10:45:00+00:00</td>\n",
       "      <td>0.0</td>\n",
       "      <td>0.0</td>\n",
       "      <td>1.476000</td>\n",
       "      <td>0.0</td>\n",
       "      <td>0.0</td>\n",
       "      <td>0.0</td>\n",
       "    </tr>\n",
       "    <tr>\n",
       "      <th>663</th>\n",
       "      <td>2024-09-05T10:55:00+00:00</td>\n",
       "      <td>NaN</td>\n",
       "      <td>NaN</td>\n",
       "      <td>1.473000</td>\n",
       "      <td>0.0</td>\n",
       "      <td>0.0</td>\n",
       "      <td>0.0</td>\n",
       "    </tr>\n",
       "    <tr>\n",
       "      <th>664</th>\n",
       "      <td>2024-09-05T11:00:00+00:00</td>\n",
       "      <td>0.0</td>\n",
       "      <td>0.0</td>\n",
       "      <td>NaN</td>\n",
       "      <td>0.0</td>\n",
       "      <td>0.0</td>\n",
       "      <td>0.0</td>\n",
       "    </tr>\n",
       "    <tr>\n",
       "      <th>665</th>\n",
       "      <td>2024-09-05T11:05:00+00:00</td>\n",
       "      <td>NaN</td>\n",
       "      <td>NaN</td>\n",
       "      <td>1.466000</td>\n",
       "      <td>0.0</td>\n",
       "      <td>0.0</td>\n",
       "      <td>0.0</td>\n",
       "    </tr>\n",
       "    <tr>\n",
       "      <th>666</th>\n",
       "      <td>2024-09-05T11:15:00+00:00</td>\n",
       "      <td>0.0</td>\n",
       "      <td>0.0</td>\n",
       "      <td>1.474999</td>\n",
       "      <td>0.0</td>\n",
       "      <td>0.0</td>\n",
       "      <td>0.0</td>\n",
       "    </tr>\n",
       "  </tbody>\n",
       "</table>\n",
       "<p>667 rows × 7 columns</p>\n",
       "</div>"
      ],
      "text/plain": [
       "                     Timestamp  Rainfall at Nayabazar - Namsaling  \\\n",
       "0    2024-09-02T00:00:00+00:00                                0.0   \n",
       "1    2024-09-02T00:05:00+00:00                                NaN   \n",
       "2    2024-09-02T00:15:00+00:00                                0.0   \n",
       "3    2024-09-02T00:25:00+00:00                                NaN   \n",
       "4    2024-09-02T00:30:00+00:00                                0.0   \n",
       "..                         ...                                ...   \n",
       "662  2024-09-05T10:45:00+00:00                                0.0   \n",
       "663  2024-09-05T10:55:00+00:00                                NaN   \n",
       "664  2024-09-05T11:00:00+00:00                                0.0   \n",
       "665  2024-09-05T11:05:00+00:00                                NaN   \n",
       "666  2024-09-05T11:15:00+00:00                                0.0   \n",
       "\n",
       "     Rainfall at Sandakpur - Valley  Water Level at Mai Khola  \\\n",
       "0                               0.0                       NaN   \n",
       "1                               NaN                  1.341000   \n",
       "2                               0.0                  1.342999   \n",
       "3                               NaN                  1.346999   \n",
       "4                               0.0                       NaN   \n",
       "..                              ...                       ...   \n",
       "662                             0.0                  1.476000   \n",
       "663                             NaN                  1.473000   \n",
       "664                             0.0                       NaN   \n",
       "665                             NaN                  1.466000   \n",
       "666                             0.0                  1.474999   \n",
       "\n",
       "     Rainfall at Mai Beni  Rainfall at Pashupatingar  \\\n",
       "0                     0.0                        0.0   \n",
       "1                     0.0                        0.0   \n",
       "2                     0.0                        0.0   \n",
       "3                     0.0                        0.0   \n",
       "4                     0.0                        0.0   \n",
       "..                    ...                        ...   \n",
       "662                   0.0                        0.0   \n",
       "663                   0.0                        0.0   \n",
       "664                   0.0                        0.0   \n",
       "665                   0.0                        0.0   \n",
       "666                   0.0                        0.0   \n",
       "\n",
       "     Rainfall at Sandakpur - Hilltop  \n",
       "0                                0.0  \n",
       "1                                0.0  \n",
       "2                                0.0  \n",
       "3                                0.0  \n",
       "4                                0.0  \n",
       "..                               ...  \n",
       "662                              0.0  \n",
       "663                              0.0  \n",
       "664                              0.0  \n",
       "665                              0.0  \n",
       "666                              0.0  \n",
       "\n",
       "[667 rows x 7 columns]"
      ]
     },
     "execution_count": 3,
     "metadata": {},
     "output_type": "execute_result"
    }
   ],
   "source": [
    "df"
   ]
  },
  {
   "cell_type": "code",
   "execution_count": 4,
   "metadata": {},
   "outputs": [
    {
     "data": {
      "text/plain": [
       "Timestamp                              0\n",
       "Rainfall at Nayabazar - Namsaling    333\n",
       "Rainfall at Sandakpur - Valley       333\n",
       "Water Level at Mai Khola             167\n",
       "Rainfall at Mai Beni                   0\n",
       "Rainfall at Pashupatingar              0\n",
       "Rainfall at Sandakpur - Hilltop        0\n",
       "dtype: int64"
      ]
     },
     "execution_count": 4,
     "metadata": {},
     "output_type": "execute_result"
    }
   ],
   "source": [
    "df.isna().sum()"
   ]
  },
  {
   "cell_type": "code",
   "execution_count": 5,
   "metadata": {},
   "outputs": [],
   "source": [
    "def reorder_dataframe(df):\n",
    "    df_reorder = df.iloc[:,[0,4,1,5,2,3]]\n",
    "    return df_reorder\n",
    "df_reordered = reorder_dataframe(df)"
   ]
  },
  {
   "cell_type": "code",
   "execution_count": 6,
   "metadata": {},
   "outputs": [
    {
     "data": {
      "text/html": [
       "<div>\n",
       "<style scoped>\n",
       "    .dataframe tbody tr th:only-of-type {\n",
       "        vertical-align: middle;\n",
       "    }\n",
       "\n",
       "    .dataframe tbody tr th {\n",
       "        vertical-align: top;\n",
       "    }\n",
       "\n",
       "    .dataframe thead th {\n",
       "        text-align: right;\n",
       "    }\n",
       "</style>\n",
       "<table border=\"1\" class=\"dataframe\">\n",
       "  <thead>\n",
       "    <tr style=\"text-align: right;\">\n",
       "      <th></th>\n",
       "      <th>Timestamp</th>\n",
       "      <th>Rainfall at Mai Beni</th>\n",
       "      <th>Rainfall at Nayabazar - Namsaling</th>\n",
       "      <th>Rainfall at Pashupatingar</th>\n",
       "      <th>Rainfall at Sandakpur - Valley</th>\n",
       "      <th>Water Level at Mai Khola</th>\n",
       "    </tr>\n",
       "  </thead>\n",
       "  <tbody>\n",
       "    <tr>\n",
       "      <th>0</th>\n",
       "      <td>2024-09-02T00:00:00+00:00</td>\n",
       "      <td>0.0</td>\n",
       "      <td>0.0</td>\n",
       "      <td>0.0</td>\n",
       "      <td>0.0</td>\n",
       "      <td>NaN</td>\n",
       "    </tr>\n",
       "    <tr>\n",
       "      <th>1</th>\n",
       "      <td>2024-09-02T00:05:00+00:00</td>\n",
       "      <td>0.0</td>\n",
       "      <td>NaN</td>\n",
       "      <td>0.0</td>\n",
       "      <td>NaN</td>\n",
       "      <td>1.341000</td>\n",
       "    </tr>\n",
       "    <tr>\n",
       "      <th>2</th>\n",
       "      <td>2024-09-02T00:15:00+00:00</td>\n",
       "      <td>0.0</td>\n",
       "      <td>0.0</td>\n",
       "      <td>0.0</td>\n",
       "      <td>0.0</td>\n",
       "      <td>1.342999</td>\n",
       "    </tr>\n",
       "    <tr>\n",
       "      <th>3</th>\n",
       "      <td>2024-09-02T00:25:00+00:00</td>\n",
       "      <td>0.0</td>\n",
       "      <td>NaN</td>\n",
       "      <td>0.0</td>\n",
       "      <td>NaN</td>\n",
       "      <td>1.346999</td>\n",
       "    </tr>\n",
       "    <tr>\n",
       "      <th>4</th>\n",
       "      <td>2024-09-02T00:30:00+00:00</td>\n",
       "      <td>0.0</td>\n",
       "      <td>0.0</td>\n",
       "      <td>0.0</td>\n",
       "      <td>0.0</td>\n",
       "      <td>NaN</td>\n",
       "    </tr>\n",
       "    <tr>\n",
       "      <th>...</th>\n",
       "      <td>...</td>\n",
       "      <td>...</td>\n",
       "      <td>...</td>\n",
       "      <td>...</td>\n",
       "      <td>...</td>\n",
       "      <td>...</td>\n",
       "    </tr>\n",
       "    <tr>\n",
       "      <th>662</th>\n",
       "      <td>2024-09-05T10:45:00+00:00</td>\n",
       "      <td>0.0</td>\n",
       "      <td>0.0</td>\n",
       "      <td>0.0</td>\n",
       "      <td>0.0</td>\n",
       "      <td>1.476000</td>\n",
       "    </tr>\n",
       "    <tr>\n",
       "      <th>663</th>\n",
       "      <td>2024-09-05T10:55:00+00:00</td>\n",
       "      <td>0.0</td>\n",
       "      <td>NaN</td>\n",
       "      <td>0.0</td>\n",
       "      <td>NaN</td>\n",
       "      <td>1.473000</td>\n",
       "    </tr>\n",
       "    <tr>\n",
       "      <th>664</th>\n",
       "      <td>2024-09-05T11:00:00+00:00</td>\n",
       "      <td>0.0</td>\n",
       "      <td>0.0</td>\n",
       "      <td>0.0</td>\n",
       "      <td>0.0</td>\n",
       "      <td>NaN</td>\n",
       "    </tr>\n",
       "    <tr>\n",
       "      <th>665</th>\n",
       "      <td>2024-09-05T11:05:00+00:00</td>\n",
       "      <td>0.0</td>\n",
       "      <td>NaN</td>\n",
       "      <td>0.0</td>\n",
       "      <td>NaN</td>\n",
       "      <td>1.466000</td>\n",
       "    </tr>\n",
       "    <tr>\n",
       "      <th>666</th>\n",
       "      <td>2024-09-05T11:15:00+00:00</td>\n",
       "      <td>0.0</td>\n",
       "      <td>0.0</td>\n",
       "      <td>0.0</td>\n",
       "      <td>0.0</td>\n",
       "      <td>1.474999</td>\n",
       "    </tr>\n",
       "  </tbody>\n",
       "</table>\n",
       "<p>667 rows × 6 columns</p>\n",
       "</div>"
      ],
      "text/plain": [
       "                     Timestamp  Rainfall at Mai Beni  \\\n",
       "0    2024-09-02T00:00:00+00:00                   0.0   \n",
       "1    2024-09-02T00:05:00+00:00                   0.0   \n",
       "2    2024-09-02T00:15:00+00:00                   0.0   \n",
       "3    2024-09-02T00:25:00+00:00                   0.0   \n",
       "4    2024-09-02T00:30:00+00:00                   0.0   \n",
       "..                         ...                   ...   \n",
       "662  2024-09-05T10:45:00+00:00                   0.0   \n",
       "663  2024-09-05T10:55:00+00:00                   0.0   \n",
       "664  2024-09-05T11:00:00+00:00                   0.0   \n",
       "665  2024-09-05T11:05:00+00:00                   0.0   \n",
       "666  2024-09-05T11:15:00+00:00                   0.0   \n",
       "\n",
       "     Rainfall at Nayabazar - Namsaling  Rainfall at Pashupatingar  \\\n",
       "0                                  0.0                        0.0   \n",
       "1                                  NaN                        0.0   \n",
       "2                                  0.0                        0.0   \n",
       "3                                  NaN                        0.0   \n",
       "4                                  0.0                        0.0   \n",
       "..                                 ...                        ...   \n",
       "662                                0.0                        0.0   \n",
       "663                                NaN                        0.0   \n",
       "664                                0.0                        0.0   \n",
       "665                                NaN                        0.0   \n",
       "666                                0.0                        0.0   \n",
       "\n",
       "     Rainfall at Sandakpur - Valley  Water Level at Mai Khola  \n",
       "0                               0.0                       NaN  \n",
       "1                               NaN                  1.341000  \n",
       "2                               0.0                  1.342999  \n",
       "3                               NaN                  1.346999  \n",
       "4                               0.0                       NaN  \n",
       "..                              ...                       ...  \n",
       "662                             0.0                  1.476000  \n",
       "663                             NaN                  1.473000  \n",
       "664                             0.0                       NaN  \n",
       "665                             NaN                  1.466000  \n",
       "666                             0.0                  1.474999  \n",
       "\n",
       "[667 rows x 6 columns]"
      ]
     },
     "execution_count": 6,
     "metadata": {},
     "output_type": "execute_result"
    }
   ],
   "source": [
    "df_reordered"
   ]
  },
  {
   "cell_type": "code",
   "execution_count": 7,
   "metadata": {},
   "outputs": [
    {
     "data": {
      "text/plain": [
       "Timestamp                              0\n",
       "Rainfall at Mai Beni                   0\n",
       "Rainfall at Nayabazar - Namsaling    333\n",
       "Rainfall at Pashupatingar              0\n",
       "Rainfall at Sandakpur - Valley       333\n",
       "Water Level at Mai Khola             167\n",
       "dtype: int64"
      ]
     },
     "execution_count": 7,
     "metadata": {},
     "output_type": "execute_result"
    }
   ],
   "source": [
    "df_reordered.isna().sum()"
   ]
  },
  {
   "cell_type": "code",
   "execution_count": 8,
   "metadata": {},
   "outputs": [
    {
     "data": {
      "text/plain": [
       "(667, 6)"
      ]
     },
     "execution_count": 8,
     "metadata": {},
     "output_type": "execute_result"
    }
   ],
   "source": [
    "df_reordered.shape"
   ]
  },
  {
   "cell_type": "code",
   "execution_count": 9,
   "metadata": {},
   "outputs": [
    {
     "data": {
      "text/html": [
       "<div>\n",
       "<style scoped>\n",
       "    .dataframe tbody tr th:only-of-type {\n",
       "        vertical-align: middle;\n",
       "    }\n",
       "\n",
       "    .dataframe tbody tr th {\n",
       "        vertical-align: top;\n",
       "    }\n",
       "\n",
       "    .dataframe thead th {\n",
       "        text-align: right;\n",
       "    }\n",
       "</style>\n",
       "<table border=\"1\" class=\"dataframe\">\n",
       "  <thead>\n",
       "    <tr style=\"text-align: right;\">\n",
       "      <th></th>\n",
       "      <th>Rainfall at Mai Beni</th>\n",
       "      <th>Rainfall at Nayabazar - Namsaling</th>\n",
       "      <th>Rainfall at Pashupatingar</th>\n",
       "      <th>Rainfall at Sandakpur - Valley</th>\n",
       "      <th>Water Level at Mai Khola</th>\n",
       "    </tr>\n",
       "  </thead>\n",
       "  <tbody>\n",
       "    <tr>\n",
       "      <th>count</th>\n",
       "      <td>667.0</td>\n",
       "      <td>334.000000</td>\n",
       "      <td>667.0</td>\n",
       "      <td>334.000000</td>\n",
       "      <td>500.000000</td>\n",
       "    </tr>\n",
       "    <tr>\n",
       "      <th>mean</th>\n",
       "      <td>0.0</td>\n",
       "      <td>0.195210</td>\n",
       "      <td>0.0</td>\n",
       "      <td>0.107784</td>\n",
       "      <td>1.398554</td>\n",
       "    </tr>\n",
       "    <tr>\n",
       "      <th>std</th>\n",
       "      <td>0.0</td>\n",
       "      <td>1.402863</td>\n",
       "      <td>0.0</td>\n",
       "      <td>0.652553</td>\n",
       "      <td>0.081379</td>\n",
       "    </tr>\n",
       "    <tr>\n",
       "      <th>min</th>\n",
       "      <td>0.0</td>\n",
       "      <td>0.000000</td>\n",
       "      <td>0.0</td>\n",
       "      <td>0.000000</td>\n",
       "      <td>1.233999</td>\n",
       "    </tr>\n",
       "    <tr>\n",
       "      <th>25%</th>\n",
       "      <td>0.0</td>\n",
       "      <td>0.000000</td>\n",
       "      <td>0.0</td>\n",
       "      <td>0.000000</td>\n",
       "      <td>1.341000</td>\n",
       "    </tr>\n",
       "    <tr>\n",
       "      <th>50%</th>\n",
       "      <td>0.0</td>\n",
       "      <td>0.000000</td>\n",
       "      <td>0.0</td>\n",
       "      <td>0.000000</td>\n",
       "      <td>1.377000</td>\n",
       "    </tr>\n",
       "    <tr>\n",
       "      <th>75%</th>\n",
       "      <td>0.0</td>\n",
       "      <td>0.000000</td>\n",
       "      <td>0.0</td>\n",
       "      <td>0.000000</td>\n",
       "      <td>1.437249</td>\n",
       "    </tr>\n",
       "    <tr>\n",
       "      <th>max</th>\n",
       "      <td>0.0</td>\n",
       "      <td>23.200001</td>\n",
       "      <td>0.0</td>\n",
       "      <td>8.800000</td>\n",
       "      <td>1.729000</td>\n",
       "    </tr>\n",
       "  </tbody>\n",
       "</table>\n",
       "</div>"
      ],
      "text/plain": [
       "       Rainfall at Mai Beni  Rainfall at Nayabazar - Namsaling  \\\n",
       "count                 667.0                         334.000000   \n",
       "mean                    0.0                           0.195210   \n",
       "std                     0.0                           1.402863   \n",
       "min                     0.0                           0.000000   \n",
       "25%                     0.0                           0.000000   \n",
       "50%                     0.0                           0.000000   \n",
       "75%                     0.0                           0.000000   \n",
       "max                     0.0                          23.200001   \n",
       "\n",
       "       Rainfall at Pashupatingar  Rainfall at Sandakpur - Valley  \\\n",
       "count                      667.0                      334.000000   \n",
       "mean                         0.0                        0.107784   \n",
       "std                          0.0                        0.652553   \n",
       "min                          0.0                        0.000000   \n",
       "25%                          0.0                        0.000000   \n",
       "50%                          0.0                        0.000000   \n",
       "75%                          0.0                        0.000000   \n",
       "max                          0.0                        8.800000   \n",
       "\n",
       "       Water Level at Mai Khola  \n",
       "count                500.000000  \n",
       "mean                   1.398554  \n",
       "std                    0.081379  \n",
       "min                    1.233999  \n",
       "25%                    1.341000  \n",
       "50%                    1.377000  \n",
       "75%                    1.437249  \n",
       "max                    1.729000  "
      ]
     },
     "execution_count": 9,
     "metadata": {},
     "output_type": "execute_result"
    }
   ],
   "source": [
    "df_reordered.describe()"
   ]
  },
  {
   "cell_type": "code",
   "execution_count": 10,
   "metadata": {},
   "outputs": [
    {
     "name": "stdout",
     "output_type": "stream",
     "text": [
      "Original timestamp: 2024-09-02 00:00:00+00:00\n",
      "Timestamp after adding 1 hour: 2024-09-02 01:00:00+00:00\n",
      "Formatted future timestamp: 2024-09-02 01:00:00+0000\n"
     ]
    }
   ],
   "source": [
    "from datetime import datetime, timedelta\n",
    "original_timestamp = datetime.strptime(\"2024-09-02 00:00:00+00:00\", \"%Y-%m-%d %H:%M:%S%z\")\n",
    "future_timestamp = original_timestamp +timedelta(hours=1)\n",
    "\n",
    "print(f\"Original timestamp: {original_timestamp}\")\n",
    "print(f\"Timestamp after adding 1 hour: {future_timestamp}\")\n",
    "\n",
    "formatted_future_timestamp = future_timestamp.strftime(\"%Y-%m-%d %H:%M:%S%z\")\n",
    "print(f\"Formatted future timestamp: {formatted_future_timestamp}\")"
   ]
  },
  {
   "cell_type": "code",
   "execution_count": 11,
   "metadata": {},
   "outputs": [],
   "source": [
    "def convert_timestamps(df, column_name, target_format='%Y-%m-%d %H:%M:%S'):\n",
    "    \"\"\"\n",
    "    Convert timestamps in a specified column of a DataFrame to a target format.\n",
    "    \n",
    "    Parameters:\n",
    "    df (pandas.DataFrame): The input DataFrame\n",
    "    column_name (str): The name of the column containing timestamps\n",
    "    target_format (str): The desired output format (default: '%Y-%m-%d %H:%M:%S')\n",
    "    \n",
    "    Returns:\n",
    "    pandas.DataFrame: A new DataFrame with the converted timestamps\n",
    "    \"\"\"\n",
    "    # Create a copy of the DataFrame to avoid modifying the original\n",
    "    df_copy = df.copy()\n",
    "    \n",
    "    # Convert the specified column to datetime\n",
    "    df_copy[column_name] = pd.to_datetime(df_copy[column_name], utc=True)\n",
    "    \n",
    "    # Convert to the target format\n",
    "    df_copy[column_name] = df_copy[column_name].dt.strftime(target_format)\n",
    "    \n",
    "    return df_copy"
   ]
  },
  {
   "cell_type": "code",
   "execution_count": 12,
   "metadata": {},
   "outputs": [],
   "source": [
    "df_formatted_timestamp = convert_timestamps(df_reordered, 'Timestamp')"
   ]
  },
  {
   "cell_type": "code",
   "execution_count": 13,
   "metadata": {},
   "outputs": [
    {
     "data": {
      "text/html": [
       "<div>\n",
       "<style scoped>\n",
       "    .dataframe tbody tr th:only-of-type {\n",
       "        vertical-align: middle;\n",
       "    }\n",
       "\n",
       "    .dataframe tbody tr th {\n",
       "        vertical-align: top;\n",
       "    }\n",
       "\n",
       "    .dataframe thead th {\n",
       "        text-align: right;\n",
       "    }\n",
       "</style>\n",
       "<table border=\"1\" class=\"dataframe\">\n",
       "  <thead>\n",
       "    <tr style=\"text-align: right;\">\n",
       "      <th></th>\n",
       "      <th>Timestamp</th>\n",
       "      <th>Rainfall at Mai Beni</th>\n",
       "      <th>Rainfall at Nayabazar - Namsaling</th>\n",
       "      <th>Rainfall at Pashupatingar</th>\n",
       "      <th>Rainfall at Sandakpur - Valley</th>\n",
       "      <th>Water Level at Mai Khola</th>\n",
       "    </tr>\n",
       "  </thead>\n",
       "  <tbody>\n",
       "    <tr>\n",
       "      <th>0</th>\n",
       "      <td>2024-09-02 00:00:00</td>\n",
       "      <td>0.0</td>\n",
       "      <td>0.0</td>\n",
       "      <td>0.0</td>\n",
       "      <td>0.0</td>\n",
       "      <td>NaN</td>\n",
       "    </tr>\n",
       "    <tr>\n",
       "      <th>1</th>\n",
       "      <td>2024-09-02 00:05:00</td>\n",
       "      <td>0.0</td>\n",
       "      <td>NaN</td>\n",
       "      <td>0.0</td>\n",
       "      <td>NaN</td>\n",
       "      <td>1.341000</td>\n",
       "    </tr>\n",
       "    <tr>\n",
       "      <th>2</th>\n",
       "      <td>2024-09-02 00:15:00</td>\n",
       "      <td>0.0</td>\n",
       "      <td>0.0</td>\n",
       "      <td>0.0</td>\n",
       "      <td>0.0</td>\n",
       "      <td>1.342999</td>\n",
       "    </tr>\n",
       "    <tr>\n",
       "      <th>3</th>\n",
       "      <td>2024-09-02 00:25:00</td>\n",
       "      <td>0.0</td>\n",
       "      <td>NaN</td>\n",
       "      <td>0.0</td>\n",
       "      <td>NaN</td>\n",
       "      <td>1.346999</td>\n",
       "    </tr>\n",
       "    <tr>\n",
       "      <th>4</th>\n",
       "      <td>2024-09-02 00:30:00</td>\n",
       "      <td>0.0</td>\n",
       "      <td>0.0</td>\n",
       "      <td>0.0</td>\n",
       "      <td>0.0</td>\n",
       "      <td>NaN</td>\n",
       "    </tr>\n",
       "  </tbody>\n",
       "</table>\n",
       "</div>"
      ],
      "text/plain": [
       "             Timestamp  Rainfall at Mai Beni  \\\n",
       "0  2024-09-02 00:00:00                   0.0   \n",
       "1  2024-09-02 00:05:00                   0.0   \n",
       "2  2024-09-02 00:15:00                   0.0   \n",
       "3  2024-09-02 00:25:00                   0.0   \n",
       "4  2024-09-02 00:30:00                   0.0   \n",
       "\n",
       "   Rainfall at Nayabazar - Namsaling  Rainfall at Pashupatingar  \\\n",
       "0                                0.0                        0.0   \n",
       "1                                NaN                        0.0   \n",
       "2                                0.0                        0.0   \n",
       "3                                NaN                        0.0   \n",
       "4                                0.0                        0.0   \n",
       "\n",
       "   Rainfall at Sandakpur - Valley  Water Level at Mai Khola  \n",
       "0                             0.0                       NaN  \n",
       "1                             NaN                  1.341000  \n",
       "2                             0.0                  1.342999  \n",
       "3                             NaN                  1.346999  \n",
       "4                             0.0                       NaN  "
      ]
     },
     "execution_count": 13,
     "metadata": {},
     "output_type": "execute_result"
    }
   ],
   "source": [
    "df_formatted_timestamp.head()"
   ]
  },
  {
   "cell_type": "code",
   "execution_count": 14,
   "metadata": {},
   "outputs": [
    {
     "data": {
      "text/plain": [
       "(667, 6)"
      ]
     },
     "execution_count": 14,
     "metadata": {},
     "output_type": "execute_result"
    }
   ],
   "source": [
    "df_formatted_timestamp.shape\n"
   ]
  },
  {
   "cell_type": "code",
   "execution_count": 15,
   "metadata": {},
   "outputs": [
    {
     "data": {
      "text/plain": [
       "Index(['Timestamp', 'Rainfall at Mai Beni',\n",
       "       'Rainfall at Nayabazar - Namsaling', 'Rainfall at Pashupatingar',\n",
       "       'Rainfall at Sandakpur - Valley', 'Water Level at Mai Khola'],\n",
       "      dtype='object')"
      ]
     },
     "execution_count": 15,
     "metadata": {},
     "output_type": "execute_result"
    }
   ],
   "source": [
    "df_formatted_timestamp.columns"
   ]
  },
  {
   "cell_type": "code",
   "execution_count": 16,
   "metadata": {},
   "outputs": [],
   "source": [
    "def set_datetime_index(df: pd.DataFrame, datetime_column: str) -> pd.DataFrame:\n",
    "    \"\"\"\n",
    "    Converts a specified column to datetime format and sets it as the DataFrame index.\n",
    "\n",
    "    Parameters:\n",
    "    df (pd.DataFrame): The DataFrame containing the datetime column.\n",
    "    datetime_column (str): The name of the column to convert and set as the index.\n",
    "\n",
    "    Returns:\n",
    "    pd.DataFrame: The DataFrame with the datetime column as the index.\n",
    "    \"\"\"\n",
    "    # Convert the specified column to datetime format\n",
    "    df[datetime_column] = pd.to_datetime(df[datetime_column], errors='coerce')\n",
    "\n",
    "    # Set the datetime column as the index\n",
    "    df.set_index(datetime_column, inplace=True)\n",
    "\n",
    "    # Sort the DataFrame by the index to ensure it's in chronological order\n",
    "    df.sort_index(inplace=True)\n",
    "\n",
    "    return df"
   ]
  },
  {
   "cell_type": "code",
   "execution_count": null,
   "metadata": {},
   "outputs": [],
   "source": []
  },
  {
   "cell_type": "code",
   "execution_count": 17,
   "metadata": {},
   "outputs": [],
   "source": [
    "df_datetime_index = set_datetime_index(df_formatted_timestamp, 'Timestamp')"
   ]
  },
  {
   "cell_type": "code",
   "execution_count": 18,
   "metadata": {},
   "outputs": [
    {
     "data": {
      "text/html": [
       "<div>\n",
       "<style scoped>\n",
       "    .dataframe tbody tr th:only-of-type {\n",
       "        vertical-align: middle;\n",
       "    }\n",
       "\n",
       "    .dataframe tbody tr th {\n",
       "        vertical-align: top;\n",
       "    }\n",
       "\n",
       "    .dataframe thead th {\n",
       "        text-align: right;\n",
       "    }\n",
       "</style>\n",
       "<table border=\"1\" class=\"dataframe\">\n",
       "  <thead>\n",
       "    <tr style=\"text-align: right;\">\n",
       "      <th></th>\n",
       "      <th>Rainfall at Mai Beni</th>\n",
       "      <th>Rainfall at Nayabazar - Namsaling</th>\n",
       "      <th>Rainfall at Pashupatingar</th>\n",
       "      <th>Rainfall at Sandakpur - Valley</th>\n",
       "      <th>Water Level at Mai Khola</th>\n",
       "    </tr>\n",
       "    <tr>\n",
       "      <th>Timestamp</th>\n",
       "      <th></th>\n",
       "      <th></th>\n",
       "      <th></th>\n",
       "      <th></th>\n",
       "      <th></th>\n",
       "    </tr>\n",
       "  </thead>\n",
       "  <tbody>\n",
       "    <tr>\n",
       "      <th>2024-09-02 00:00:00</th>\n",
       "      <td>0.0</td>\n",
       "      <td>0.0</td>\n",
       "      <td>0.0</td>\n",
       "      <td>0.0</td>\n",
       "      <td>NaN</td>\n",
       "    </tr>\n",
       "    <tr>\n",
       "      <th>2024-09-02 00:05:00</th>\n",
       "      <td>0.0</td>\n",
       "      <td>NaN</td>\n",
       "      <td>0.0</td>\n",
       "      <td>NaN</td>\n",
       "      <td>1.341000</td>\n",
       "    </tr>\n",
       "    <tr>\n",
       "      <th>2024-09-02 00:15:00</th>\n",
       "      <td>0.0</td>\n",
       "      <td>0.0</td>\n",
       "      <td>0.0</td>\n",
       "      <td>0.0</td>\n",
       "      <td>1.342999</td>\n",
       "    </tr>\n",
       "    <tr>\n",
       "      <th>2024-09-02 00:25:00</th>\n",
       "      <td>0.0</td>\n",
       "      <td>NaN</td>\n",
       "      <td>0.0</td>\n",
       "      <td>NaN</td>\n",
       "      <td>1.346999</td>\n",
       "    </tr>\n",
       "    <tr>\n",
       "      <th>2024-09-02 00:30:00</th>\n",
       "      <td>0.0</td>\n",
       "      <td>0.0</td>\n",
       "      <td>0.0</td>\n",
       "      <td>0.0</td>\n",
       "      <td>NaN</td>\n",
       "    </tr>\n",
       "  </tbody>\n",
       "</table>\n",
       "</div>"
      ],
      "text/plain": [
       "                     Rainfall at Mai Beni  Rainfall at Nayabazar - Namsaling  \\\n",
       "Timestamp                                                                      \n",
       "2024-09-02 00:00:00                   0.0                                0.0   \n",
       "2024-09-02 00:05:00                   0.0                                NaN   \n",
       "2024-09-02 00:15:00                   0.0                                0.0   \n",
       "2024-09-02 00:25:00                   0.0                                NaN   \n",
       "2024-09-02 00:30:00                   0.0                                0.0   \n",
       "\n",
       "                     Rainfall at Pashupatingar  \\\n",
       "Timestamp                                        \n",
       "2024-09-02 00:00:00                        0.0   \n",
       "2024-09-02 00:05:00                        0.0   \n",
       "2024-09-02 00:15:00                        0.0   \n",
       "2024-09-02 00:25:00                        0.0   \n",
       "2024-09-02 00:30:00                        0.0   \n",
       "\n",
       "                     Rainfall at Sandakpur - Valley  Water Level at Mai Khola  \n",
       "Timestamp                                                                      \n",
       "2024-09-02 00:00:00                             0.0                       NaN  \n",
       "2024-09-02 00:05:00                             NaN                  1.341000  \n",
       "2024-09-02 00:15:00                             0.0                  1.342999  \n",
       "2024-09-02 00:25:00                             NaN                  1.346999  \n",
       "2024-09-02 00:30:00                             0.0                       NaN  "
      ]
     },
     "execution_count": 18,
     "metadata": {},
     "output_type": "execute_result"
    }
   ],
   "source": [
    "df_datetime_index.head()"
   ]
  },
  {
   "cell_type": "code",
   "execution_count": 19,
   "metadata": {},
   "outputs": [
    {
     "data": {
      "text/plain": [
       "(667, 5)"
      ]
     },
     "execution_count": 19,
     "metadata": {},
     "output_type": "execute_result"
    }
   ],
   "source": [
    "df_datetime_index.shape"
   ]
  },
  {
   "cell_type": "code",
   "execution_count": 20,
   "metadata": {},
   "outputs": [
    {
     "data": {
      "text/html": [
       "<div>\n",
       "<style scoped>\n",
       "    .dataframe tbody tr th:only-of-type {\n",
       "        vertical-align: middle;\n",
       "    }\n",
       "\n",
       "    .dataframe tbody tr th {\n",
       "        vertical-align: top;\n",
       "    }\n",
       "\n",
       "    .dataframe thead th {\n",
       "        text-align: right;\n",
       "    }\n",
       "</style>\n",
       "<table border=\"1\" class=\"dataframe\">\n",
       "  <thead>\n",
       "    <tr style=\"text-align: right;\">\n",
       "      <th></th>\n",
       "      <th>Rainfall at Mai Beni</th>\n",
       "      <th>Rainfall at Nayabazar - Namsaling</th>\n",
       "      <th>Rainfall at Pashupatingar</th>\n",
       "      <th>Rainfall at Sandakpur - Valley</th>\n",
       "      <th>Water Level at Mai Khola</th>\n",
       "    </tr>\n",
       "    <tr>\n",
       "      <th>Timestamp</th>\n",
       "      <th></th>\n",
       "      <th></th>\n",
       "      <th></th>\n",
       "      <th></th>\n",
       "      <th></th>\n",
       "    </tr>\n",
       "  </thead>\n",
       "  <tbody>\n",
       "    <tr>\n",
       "      <th>2024-09-05 10:45:00</th>\n",
       "      <td>0.0</td>\n",
       "      <td>0.0</td>\n",
       "      <td>0.0</td>\n",
       "      <td>0.0</td>\n",
       "      <td>1.476000</td>\n",
       "    </tr>\n",
       "    <tr>\n",
       "      <th>2024-09-05 10:55:00</th>\n",
       "      <td>0.0</td>\n",
       "      <td>NaN</td>\n",
       "      <td>0.0</td>\n",
       "      <td>NaN</td>\n",
       "      <td>1.473000</td>\n",
       "    </tr>\n",
       "    <tr>\n",
       "      <th>2024-09-05 11:00:00</th>\n",
       "      <td>0.0</td>\n",
       "      <td>0.0</td>\n",
       "      <td>0.0</td>\n",
       "      <td>0.0</td>\n",
       "      <td>NaN</td>\n",
       "    </tr>\n",
       "    <tr>\n",
       "      <th>2024-09-05 11:05:00</th>\n",
       "      <td>0.0</td>\n",
       "      <td>NaN</td>\n",
       "      <td>0.0</td>\n",
       "      <td>NaN</td>\n",
       "      <td>1.466000</td>\n",
       "    </tr>\n",
       "    <tr>\n",
       "      <th>2024-09-05 11:15:00</th>\n",
       "      <td>0.0</td>\n",
       "      <td>0.0</td>\n",
       "      <td>0.0</td>\n",
       "      <td>0.0</td>\n",
       "      <td>1.474999</td>\n",
       "    </tr>\n",
       "  </tbody>\n",
       "</table>\n",
       "</div>"
      ],
      "text/plain": [
       "                     Rainfall at Mai Beni  Rainfall at Nayabazar - Namsaling  \\\n",
       "Timestamp                                                                      \n",
       "2024-09-05 10:45:00                   0.0                                0.0   \n",
       "2024-09-05 10:55:00                   0.0                                NaN   \n",
       "2024-09-05 11:00:00                   0.0                                0.0   \n",
       "2024-09-05 11:05:00                   0.0                                NaN   \n",
       "2024-09-05 11:15:00                   0.0                                0.0   \n",
       "\n",
       "                     Rainfall at Pashupatingar  \\\n",
       "Timestamp                                        \n",
       "2024-09-05 10:45:00                        0.0   \n",
       "2024-09-05 10:55:00                        0.0   \n",
       "2024-09-05 11:00:00                        0.0   \n",
       "2024-09-05 11:05:00                        0.0   \n",
       "2024-09-05 11:15:00                        0.0   \n",
       "\n",
       "                     Rainfall at Sandakpur - Valley  Water Level at Mai Khola  \n",
       "Timestamp                                                                      \n",
       "2024-09-05 10:45:00                             0.0                  1.476000  \n",
       "2024-09-05 10:55:00                             NaN                  1.473000  \n",
       "2024-09-05 11:00:00                             0.0                       NaN  \n",
       "2024-09-05 11:05:00                             NaN                  1.466000  \n",
       "2024-09-05 11:15:00                             0.0                  1.474999  "
      ]
     },
     "execution_count": 20,
     "metadata": {},
     "output_type": "execute_result"
    }
   ],
   "source": [
    "df_datetime_index.tail()\n"
   ]
  },
  {
   "cell_type": "code",
   "execution_count": null,
   "metadata": {},
   "outputs": [],
   "source": []
  },
  {
   "cell_type": "code",
   "execution_count": 21,
   "metadata": {},
   "outputs": [
    {
     "data": {
      "text/plain": [
       "Rainfall at Mai Beni                 0.000\n",
       "Rainfall at Nayabazar - Namsaling      NaN\n",
       "Rainfall at Pashupatingar            0.000\n",
       "Rainfall at Sandakpur - Valley         NaN\n",
       "Water Level at Mai Khola             1.341\n",
       "Name: 2024-09-02 00:05:00, dtype: float64"
      ]
     },
     "execution_count": 21,
     "metadata": {},
     "output_type": "execute_result"
    }
   ],
   "source": [
    "#Testing \n",
    "filtered_data = df_datetime_index.loc['2024-09-02 00:05:00']\n",
    "filtered_data"
   ]
  },
  {
   "cell_type": "code",
   "execution_count": 22,
   "metadata": {},
   "outputs": [
    {
     "data": {
      "text/plain": [
       "DatetimeIndex(['2024-09-02 00:00:00', '2024-09-02 00:05:00',\n",
       "               '2024-09-02 00:15:00', '2024-09-02 00:25:00',\n",
       "               '2024-09-02 00:30:00', '2024-09-02 00:35:00',\n",
       "               '2024-09-02 00:45:00', '2024-09-02 00:55:00',\n",
       "               '2024-09-02 01:00:00', '2024-09-02 01:05:00',\n",
       "               ...\n",
       "               '2024-09-05 10:05:00', '2024-09-05 10:15:00',\n",
       "               '2024-09-05 10:25:00', '2024-09-05 10:30:00',\n",
       "               '2024-09-05 10:35:00', '2024-09-05 10:45:00',\n",
       "               '2024-09-05 10:55:00', '2024-09-05 11:00:00',\n",
       "               '2024-09-05 11:05:00', '2024-09-05 11:15:00'],\n",
       "              dtype='datetime64[ns]', name='Timestamp', length=667, freq=None)"
      ]
     },
     "execution_count": 22,
     "metadata": {},
     "output_type": "execute_result"
    }
   ],
   "source": [
    "index_series = df_datetime_index.index\n",
    "index_series"
   ]
  },
  {
   "cell_type": "code",
   "execution_count": 23,
   "metadata": {},
   "outputs": [
    {
     "name": "stdout",
     "output_type": "stream",
     "text": [
      "2024-09-05 11:15:00\n",
      "2024-09-05 10:15:00\n"
     ]
    }
   ],
   "source": [
    "from datetime import datetime\n",
    "\n",
    "last_index = df_datetime_index.index[-1]\n",
    "future_timestamp = last_index - pd.Timedelta(hours =1)\n",
    "print(last_index)\n",
    "print(future_timestamp)"
   ]
  },
  {
   "cell_type": "code",
   "execution_count": 24,
   "metadata": {},
   "outputs": [],
   "source": [
    "# print(f\"THe lenghtn of the dataframe is {len(df_datetime_index.index)}\")"
   ]
  },
  {
   "cell_type": "code",
   "execution_count": 25,
   "metadata": {},
   "outputs": [],
   "source": [
    "def create_new_dataframe_with_reduced_timestamps(df, hours=1):\n",
    "    \"\"\"\n",
    "    Create a new DataFrame by repeatedly subtracting 1 hour from the last timestamp\n",
    "    and copying each row's data until the first timestamp is reached.\n",
    "    \n",
    "    Parameters:\n",
    "    df (pd.DataFrame): Input DataFrame with the index set to 'Timestamp'.\n",
    "    hours (int): The number of hours to subtract for each step (default is 1).\n",
    "    \n",
    "    Returns:\n",
    "    pd.DataFrame: A new DataFrame with adjusted timestamps.\n",
    "    \"\"\"\n",
    "    # Ensure the index is a DateTimeIndex\n",
    "    if not isinstance(df.index, pd.DatetimeIndex):\n",
    "        raise ValueError(\"The DataFrame index must be a DateTimeIndex.\")\n",
    "    \n",
    "    # Get the last timestamp from the DataFrame\n",
    "    last_timestamp = df.index[-1]\n",
    "\n",
    "    # List to store the new rows\n",
    "    new_rows = []\n",
    "\n",
    "    # Loop until we reach the first timestamp\n",
    "    while last_timestamp >= df.index[0]:\n",
    "        # Get the row corresponding to the current timestamp\n",
    "        row_data = df.loc[last_timestamp]\n",
    "\n",
    "        # Append the row data to the list\n",
    "        new_rows.append(row_data)\n",
    "\n",
    "        # Subtract the specified number of hours from the current timestamp\n",
    "        last_timestamp -= pd.Timedelta(hours=hours)\n",
    "\n",
    "    # Convert the list of rows into a new DataFrame\n",
    "    new_df = pd.DataFrame(new_rows)\n",
    "\n",
    "    # Reverse the DataFrame to keep the original order\n",
    "    new_df = new_df[::-1]\n",
    "\n",
    "    # Set the index of the new DataFrame to the timestamps, adjusting to match the loop\n",
    "    new_df.index = pd.date_range(end=df.index[-1], periods=len(new_df), freq=f'-{hours}H')\n",
    "\n",
    "    return new_df"
   ]
  },
  {
   "cell_type": "code",
   "execution_count": 26,
   "metadata": {},
   "outputs": [
    {
     "data": {
      "text/plain": [
       "Index(['Rainfall at Mai Beni', 'Rainfall at Nayabazar - Namsaling',\n",
       "       'Rainfall at Pashupatingar', 'Rainfall at Sandakpur - Valley',\n",
       "       'Water Level at Mai Khola'],\n",
       "      dtype='object')"
      ]
     },
     "execution_count": 26,
     "metadata": {},
     "output_type": "execute_result"
    }
   ],
   "source": [
    "df_formatted_timestamp.columns"
   ]
  },
  {
   "cell_type": "code",
   "execution_count": 27,
   "metadata": {},
   "outputs": [
    {
     "name": "stderr",
     "output_type": "stream",
     "text": [
      "/tmp/ipykernel_19765/4041213274.py:41: FutureWarning: 'H' is deprecated and will be removed in a future version, please use 'h' instead.\n",
      "  new_df.index = pd.date_range(end=df.index[-1], periods=len(new_df), freq=f'-{hours}H')\n"
     ]
    }
   ],
   "source": [
    "df_filtered_hourly = create_new_dataframe_with_reduced_timestamps(df_datetime_index)"
   ]
  },
  {
   "cell_type": "code",
   "execution_count": 28,
   "metadata": {},
   "outputs": [
    {
     "data": {
      "text/html": [
       "<div>\n",
       "<style scoped>\n",
       "    .dataframe tbody tr th:only-of-type {\n",
       "        vertical-align: middle;\n",
       "    }\n",
       "\n",
       "    .dataframe tbody tr th {\n",
       "        vertical-align: top;\n",
       "    }\n",
       "\n",
       "    .dataframe thead th {\n",
       "        text-align: right;\n",
       "    }\n",
       "</style>\n",
       "<table border=\"1\" class=\"dataframe\">\n",
       "  <thead>\n",
       "    <tr style=\"text-align: right;\">\n",
       "      <th></th>\n",
       "      <th>Rainfall at Mai Beni</th>\n",
       "      <th>Rainfall at Nayabazar - Namsaling</th>\n",
       "      <th>Rainfall at Pashupatingar</th>\n",
       "      <th>Rainfall at Sandakpur - Valley</th>\n",
       "      <th>Water Level at Mai Khola</th>\n",
       "    </tr>\n",
       "  </thead>\n",
       "  <tbody>\n",
       "    <tr>\n",
       "      <th>2024-09-08 22:15:00</th>\n",
       "      <td>0.0</td>\n",
       "      <td>0.0</td>\n",
       "      <td>0.0</td>\n",
       "      <td>0.0</td>\n",
       "      <td>1.342999</td>\n",
       "    </tr>\n",
       "    <tr>\n",
       "      <th>2024-09-08 21:15:00</th>\n",
       "      <td>0.0</td>\n",
       "      <td>0.0</td>\n",
       "      <td>0.0</td>\n",
       "      <td>0.0</td>\n",
       "      <td>1.356999</td>\n",
       "    </tr>\n",
       "    <tr>\n",
       "      <th>2024-09-08 20:15:00</th>\n",
       "      <td>0.0</td>\n",
       "      <td>0.0</td>\n",
       "      <td>0.0</td>\n",
       "      <td>0.0</td>\n",
       "      <td>1.335000</td>\n",
       "    </tr>\n",
       "    <tr>\n",
       "      <th>2024-09-08 19:15:00</th>\n",
       "      <td>0.0</td>\n",
       "      <td>0.0</td>\n",
       "      <td>0.0</td>\n",
       "      <td>0.0</td>\n",
       "      <td>1.330000</td>\n",
       "    </tr>\n",
       "    <tr>\n",
       "      <th>2024-09-08 18:15:00</th>\n",
       "      <td>0.0</td>\n",
       "      <td>0.0</td>\n",
       "      <td>0.0</td>\n",
       "      <td>0.0</td>\n",
       "      <td>1.358000</td>\n",
       "    </tr>\n",
       "  </tbody>\n",
       "</table>\n",
       "</div>"
      ],
      "text/plain": [
       "                     Rainfall at Mai Beni  Rainfall at Nayabazar - Namsaling  \\\n",
       "2024-09-08 22:15:00                   0.0                                0.0   \n",
       "2024-09-08 21:15:00                   0.0                                0.0   \n",
       "2024-09-08 20:15:00                   0.0                                0.0   \n",
       "2024-09-08 19:15:00                   0.0                                0.0   \n",
       "2024-09-08 18:15:00                   0.0                                0.0   \n",
       "\n",
       "                     Rainfall at Pashupatingar  \\\n",
       "2024-09-08 22:15:00                        0.0   \n",
       "2024-09-08 21:15:00                        0.0   \n",
       "2024-09-08 20:15:00                        0.0   \n",
       "2024-09-08 19:15:00                        0.0   \n",
       "2024-09-08 18:15:00                        0.0   \n",
       "\n",
       "                     Rainfall at Sandakpur - Valley  Water Level at Mai Khola  \n",
       "2024-09-08 22:15:00                             0.0                  1.342999  \n",
       "2024-09-08 21:15:00                             0.0                  1.356999  \n",
       "2024-09-08 20:15:00                             0.0                  1.335000  \n",
       "2024-09-08 19:15:00                             0.0                  1.330000  \n",
       "2024-09-08 18:15:00                             0.0                  1.358000  "
      ]
     },
     "execution_count": 28,
     "metadata": {},
     "output_type": "execute_result"
    }
   ],
   "source": [
    "df_filtered_hourly.head()"
   ]
  },
  {
   "cell_type": "code",
   "execution_count": 29,
   "metadata": {},
   "outputs": [],
   "source": [
    "# Reverse the order of the DataFrame\n",
    "df_filtered_hourly_reversed = df_filtered_hourly.iloc[::-1]\n"
   ]
  },
  {
   "cell_type": "code",
   "execution_count": 30,
   "metadata": {},
   "outputs": [
    {
     "data": {
      "text/html": [
       "<div>\n",
       "<style scoped>\n",
       "    .dataframe tbody tr th:only-of-type {\n",
       "        vertical-align: middle;\n",
       "    }\n",
       "\n",
       "    .dataframe tbody tr th {\n",
       "        vertical-align: top;\n",
       "    }\n",
       "\n",
       "    .dataframe thead th {\n",
       "        text-align: right;\n",
       "    }\n",
       "</style>\n",
       "<table border=\"1\" class=\"dataframe\">\n",
       "  <thead>\n",
       "    <tr style=\"text-align: right;\">\n",
       "      <th></th>\n",
       "      <th>Rainfall at Mai Beni</th>\n",
       "      <th>Rainfall at Nayabazar - Namsaling</th>\n",
       "      <th>Rainfall at Pashupatingar</th>\n",
       "      <th>Rainfall at Sandakpur - Valley</th>\n",
       "      <th>Water Level at Mai Khola</th>\n",
       "    </tr>\n",
       "  </thead>\n",
       "  <tbody>\n",
       "    <tr>\n",
       "      <th>2024-09-05 11:15:00</th>\n",
       "      <td>0.0</td>\n",
       "      <td>0.0</td>\n",
       "      <td>0.0</td>\n",
       "      <td>0.0</td>\n",
       "      <td>1.474999</td>\n",
       "    </tr>\n",
       "    <tr>\n",
       "      <th>2024-09-05 12:15:00</th>\n",
       "      <td>0.0</td>\n",
       "      <td>0.0</td>\n",
       "      <td>0.0</td>\n",
       "      <td>0.0</td>\n",
       "      <td>1.443000</td>\n",
       "    </tr>\n",
       "    <tr>\n",
       "      <th>2024-09-05 13:15:00</th>\n",
       "      <td>0.0</td>\n",
       "      <td>0.0</td>\n",
       "      <td>0.0</td>\n",
       "      <td>0.0</td>\n",
       "      <td>1.316000</td>\n",
       "    </tr>\n",
       "    <tr>\n",
       "      <th>2024-09-05 14:15:00</th>\n",
       "      <td>0.0</td>\n",
       "      <td>0.6</td>\n",
       "      <td>0.0</td>\n",
       "      <td>0.2</td>\n",
       "      <td>1.342999</td>\n",
       "    </tr>\n",
       "    <tr>\n",
       "      <th>2024-09-05 15:15:00</th>\n",
       "      <td>0.0</td>\n",
       "      <td>0.2</td>\n",
       "      <td>0.0</td>\n",
       "      <td>0.2</td>\n",
       "      <td>1.356000</td>\n",
       "    </tr>\n",
       "  </tbody>\n",
       "</table>\n",
       "</div>"
      ],
      "text/plain": [
       "                     Rainfall at Mai Beni  Rainfall at Nayabazar - Namsaling  \\\n",
       "2024-09-05 11:15:00                   0.0                                0.0   \n",
       "2024-09-05 12:15:00                   0.0                                0.0   \n",
       "2024-09-05 13:15:00                   0.0                                0.0   \n",
       "2024-09-05 14:15:00                   0.0                                0.6   \n",
       "2024-09-05 15:15:00                   0.0                                0.2   \n",
       "\n",
       "                     Rainfall at Pashupatingar  \\\n",
       "2024-09-05 11:15:00                        0.0   \n",
       "2024-09-05 12:15:00                        0.0   \n",
       "2024-09-05 13:15:00                        0.0   \n",
       "2024-09-05 14:15:00                        0.0   \n",
       "2024-09-05 15:15:00                        0.0   \n",
       "\n",
       "                     Rainfall at Sandakpur - Valley  Water Level at Mai Khola  \n",
       "2024-09-05 11:15:00                             0.0                  1.474999  \n",
       "2024-09-05 12:15:00                             0.0                  1.443000  \n",
       "2024-09-05 13:15:00                             0.0                  1.316000  \n",
       "2024-09-05 14:15:00                             0.2                  1.342999  \n",
       "2024-09-05 15:15:00                             0.2                  1.356000  "
      ]
     },
     "execution_count": 30,
     "metadata": {},
     "output_type": "execute_result"
    }
   ],
   "source": [
    "df_filtered_hourly_reversed.head()"
   ]
  },
  {
   "cell_type": "code",
   "execution_count": 31,
   "metadata": {},
   "outputs": [
    {
     "data": {
      "text/plain": [
       "(84, 5)"
      ]
     },
     "execution_count": 31,
     "metadata": {},
     "output_type": "execute_result"
    }
   ],
   "source": [
    "df_filtered_hourly_reversed.shape"
   ]
  },
  {
   "cell_type": "code",
   "execution_count": 32,
   "metadata": {},
   "outputs": [
    {
     "data": {
      "text/html": [
       "<div>\n",
       "<style scoped>\n",
       "    .dataframe tbody tr th:only-of-type {\n",
       "        vertical-align: middle;\n",
       "    }\n",
       "\n",
       "    .dataframe tbody tr th {\n",
       "        vertical-align: top;\n",
       "    }\n",
       "\n",
       "    .dataframe thead th {\n",
       "        text-align: right;\n",
       "    }\n",
       "</style>\n",
       "<table border=\"1\" class=\"dataframe\">\n",
       "  <thead>\n",
       "    <tr style=\"text-align: right;\">\n",
       "      <th></th>\n",
       "      <th>Rainfall at Mai Beni</th>\n",
       "      <th>Rainfall at Nayabazar - Namsaling</th>\n",
       "      <th>Rainfall at Pashupatingar</th>\n",
       "      <th>Rainfall at Sandakpur - Valley</th>\n",
       "      <th>Water Level at Mai Khola</th>\n",
       "    </tr>\n",
       "  </thead>\n",
       "  <tbody>\n",
       "    <tr>\n",
       "      <th>2024-09-08 18:15:00</th>\n",
       "      <td>0.0</td>\n",
       "      <td>0.0</td>\n",
       "      <td>0.0</td>\n",
       "      <td>0.0</td>\n",
       "      <td>1.358000</td>\n",
       "    </tr>\n",
       "    <tr>\n",
       "      <th>2024-09-08 19:15:00</th>\n",
       "      <td>0.0</td>\n",
       "      <td>0.0</td>\n",
       "      <td>0.0</td>\n",
       "      <td>0.0</td>\n",
       "      <td>1.330000</td>\n",
       "    </tr>\n",
       "    <tr>\n",
       "      <th>2024-09-08 20:15:00</th>\n",
       "      <td>0.0</td>\n",
       "      <td>0.0</td>\n",
       "      <td>0.0</td>\n",
       "      <td>0.0</td>\n",
       "      <td>1.335000</td>\n",
       "    </tr>\n",
       "    <tr>\n",
       "      <th>2024-09-08 21:15:00</th>\n",
       "      <td>0.0</td>\n",
       "      <td>0.0</td>\n",
       "      <td>0.0</td>\n",
       "      <td>0.0</td>\n",
       "      <td>1.356999</td>\n",
       "    </tr>\n",
       "    <tr>\n",
       "      <th>2024-09-08 22:15:00</th>\n",
       "      <td>0.0</td>\n",
       "      <td>0.0</td>\n",
       "      <td>0.0</td>\n",
       "      <td>0.0</td>\n",
       "      <td>1.342999</td>\n",
       "    </tr>\n",
       "  </tbody>\n",
       "</table>\n",
       "</div>"
      ],
      "text/plain": [
       "                     Rainfall at Mai Beni  Rainfall at Nayabazar - Namsaling  \\\n",
       "2024-09-08 18:15:00                   0.0                                0.0   \n",
       "2024-09-08 19:15:00                   0.0                                0.0   \n",
       "2024-09-08 20:15:00                   0.0                                0.0   \n",
       "2024-09-08 21:15:00                   0.0                                0.0   \n",
       "2024-09-08 22:15:00                   0.0                                0.0   \n",
       "\n",
       "                     Rainfall at Pashupatingar  \\\n",
       "2024-09-08 18:15:00                        0.0   \n",
       "2024-09-08 19:15:00                        0.0   \n",
       "2024-09-08 20:15:00                        0.0   \n",
       "2024-09-08 21:15:00                        0.0   \n",
       "2024-09-08 22:15:00                        0.0   \n",
       "\n",
       "                     Rainfall at Sandakpur - Valley  Water Level at Mai Khola  \n",
       "2024-09-08 18:15:00                             0.0                  1.358000  \n",
       "2024-09-08 19:15:00                             0.0                  1.330000  \n",
       "2024-09-08 20:15:00                             0.0                  1.335000  \n",
       "2024-09-08 21:15:00                             0.0                  1.356999  \n",
       "2024-09-08 22:15:00                             0.0                  1.342999  "
      ]
     },
     "execution_count": 32,
     "metadata": {},
     "output_type": "execute_result"
    }
   ],
   "source": [
    "df_filtered_hourly_reversed.tail()"
   ]
  },
  {
   "cell_type": "code",
   "execution_count": 33,
   "metadata": {},
   "outputs": [
    {
     "data": {
      "text/plain": [
       "Index(['Rainfall at Mai Beni', 'Rainfall at Nayabazar - Namsaling',\n",
       "       'Rainfall at Pashupatingar', 'Rainfall at Sandakpur - Valley',\n",
       "       'Water Level at Mai Khola'],\n",
       "      dtype='object')"
      ]
     },
     "execution_count": 33,
     "metadata": {},
     "output_type": "execute_result"
    }
   ],
   "source": [
    "df_filtered_hourly.columns"
   ]
  },
  {
   "cell_type": "code",
   "execution_count": 34,
   "metadata": {},
   "outputs": [
    {
     "data": {
      "text/html": [
       "<div>\n",
       "<style scoped>\n",
       "    .dataframe tbody tr th:only-of-type {\n",
       "        vertical-align: middle;\n",
       "    }\n",
       "\n",
       "    .dataframe tbody tr th {\n",
       "        vertical-align: top;\n",
       "    }\n",
       "\n",
       "    .dataframe thead th {\n",
       "        text-align: right;\n",
       "    }\n",
       "</style>\n",
       "<table border=\"1\" class=\"dataframe\">\n",
       "  <thead>\n",
       "    <tr style=\"text-align: right;\">\n",
       "      <th></th>\n",
       "      <th>Rainfall at Mai Beni</th>\n",
       "      <th>Rainfall at Nayabazar - Namsaling</th>\n",
       "      <th>Rainfall at Pashupatingar</th>\n",
       "      <th>Rainfall at Sandakpur - Valley</th>\n",
       "      <th>Water Level at Mai Khola</th>\n",
       "    </tr>\n",
       "  </thead>\n",
       "  <tbody>\n",
       "    <tr>\n",
       "      <th>2024-09-08 22:15:00</th>\n",
       "      <td>0.0</td>\n",
       "      <td>0.0</td>\n",
       "      <td>0.0</td>\n",
       "      <td>0.0</td>\n",
       "      <td>1.342999</td>\n",
       "    </tr>\n",
       "    <tr>\n",
       "      <th>2024-09-08 21:15:00</th>\n",
       "      <td>0.0</td>\n",
       "      <td>0.0</td>\n",
       "      <td>0.0</td>\n",
       "      <td>0.0</td>\n",
       "      <td>1.356999</td>\n",
       "    </tr>\n",
       "    <tr>\n",
       "      <th>2024-09-08 20:15:00</th>\n",
       "      <td>0.0</td>\n",
       "      <td>0.0</td>\n",
       "      <td>0.0</td>\n",
       "      <td>0.0</td>\n",
       "      <td>1.335000</td>\n",
       "    </tr>\n",
       "    <tr>\n",
       "      <th>2024-09-08 19:15:00</th>\n",
       "      <td>0.0</td>\n",
       "      <td>0.0</td>\n",
       "      <td>0.0</td>\n",
       "      <td>0.0</td>\n",
       "      <td>1.330000</td>\n",
       "    </tr>\n",
       "    <tr>\n",
       "      <th>2024-09-08 18:15:00</th>\n",
       "      <td>0.0</td>\n",
       "      <td>0.0</td>\n",
       "      <td>0.0</td>\n",
       "      <td>0.0</td>\n",
       "      <td>1.358000</td>\n",
       "    </tr>\n",
       "    <tr>\n",
       "      <th>...</th>\n",
       "      <td>...</td>\n",
       "      <td>...</td>\n",
       "      <td>...</td>\n",
       "      <td>...</td>\n",
       "      <td>...</td>\n",
       "    </tr>\n",
       "    <tr>\n",
       "      <th>2024-09-05 15:15:00</th>\n",
       "      <td>0.0</td>\n",
       "      <td>0.2</td>\n",
       "      <td>0.0</td>\n",
       "      <td>0.2</td>\n",
       "      <td>1.356000</td>\n",
       "    </tr>\n",
       "    <tr>\n",
       "      <th>2024-09-05 14:15:00</th>\n",
       "      <td>0.0</td>\n",
       "      <td>0.6</td>\n",
       "      <td>0.0</td>\n",
       "      <td>0.2</td>\n",
       "      <td>1.342999</td>\n",
       "    </tr>\n",
       "    <tr>\n",
       "      <th>2024-09-05 13:15:00</th>\n",
       "      <td>0.0</td>\n",
       "      <td>0.0</td>\n",
       "      <td>0.0</td>\n",
       "      <td>0.0</td>\n",
       "      <td>1.316000</td>\n",
       "    </tr>\n",
       "    <tr>\n",
       "      <th>2024-09-05 12:15:00</th>\n",
       "      <td>0.0</td>\n",
       "      <td>0.0</td>\n",
       "      <td>0.0</td>\n",
       "      <td>0.0</td>\n",
       "      <td>1.443000</td>\n",
       "    </tr>\n",
       "    <tr>\n",
       "      <th>2024-09-05 11:15:00</th>\n",
       "      <td>0.0</td>\n",
       "      <td>0.0</td>\n",
       "      <td>0.0</td>\n",
       "      <td>0.0</td>\n",
       "      <td>1.474999</td>\n",
       "    </tr>\n",
       "  </tbody>\n",
       "</table>\n",
       "<p>84 rows × 5 columns</p>\n",
       "</div>"
      ],
      "text/plain": [
       "                     Rainfall at Mai Beni  Rainfall at Nayabazar - Namsaling  \\\n",
       "2024-09-08 22:15:00                   0.0                                0.0   \n",
       "2024-09-08 21:15:00                   0.0                                0.0   \n",
       "2024-09-08 20:15:00                   0.0                                0.0   \n",
       "2024-09-08 19:15:00                   0.0                                0.0   \n",
       "2024-09-08 18:15:00                   0.0                                0.0   \n",
       "...                                   ...                                ...   \n",
       "2024-09-05 15:15:00                   0.0                                0.2   \n",
       "2024-09-05 14:15:00                   0.0                                0.6   \n",
       "2024-09-05 13:15:00                   0.0                                0.0   \n",
       "2024-09-05 12:15:00                   0.0                                0.0   \n",
       "2024-09-05 11:15:00                   0.0                                0.0   \n",
       "\n",
       "                     Rainfall at Pashupatingar  \\\n",
       "2024-09-08 22:15:00                        0.0   \n",
       "2024-09-08 21:15:00                        0.0   \n",
       "2024-09-08 20:15:00                        0.0   \n",
       "2024-09-08 19:15:00                        0.0   \n",
       "2024-09-08 18:15:00                        0.0   \n",
       "...                                        ...   \n",
       "2024-09-05 15:15:00                        0.0   \n",
       "2024-09-05 14:15:00                        0.0   \n",
       "2024-09-05 13:15:00                        0.0   \n",
       "2024-09-05 12:15:00                        0.0   \n",
       "2024-09-05 11:15:00                        0.0   \n",
       "\n",
       "                     Rainfall at Sandakpur - Valley  Water Level at Mai Khola  \n",
       "2024-09-08 22:15:00                             0.0                  1.342999  \n",
       "2024-09-08 21:15:00                             0.0                  1.356999  \n",
       "2024-09-08 20:15:00                             0.0                  1.335000  \n",
       "2024-09-08 19:15:00                             0.0                  1.330000  \n",
       "2024-09-08 18:15:00                             0.0                  1.358000  \n",
       "...                                             ...                       ...  \n",
       "2024-09-05 15:15:00                             0.2                  1.356000  \n",
       "2024-09-05 14:15:00                             0.2                  1.342999  \n",
       "2024-09-05 13:15:00                             0.0                  1.316000  \n",
       "2024-09-05 12:15:00                             0.0                  1.443000  \n",
       "2024-09-05 11:15:00                             0.0                  1.474999  \n",
       "\n",
       "[84 rows x 5 columns]"
      ]
     },
     "execution_count": 34,
     "metadata": {},
     "output_type": "execute_result"
    }
   ],
   "source": [
    "df_filtered_hourly"
   ]
  },
  {
   "cell_type": "code",
   "execution_count": 35,
   "metadata": {},
   "outputs": [],
   "source": [
    "# df_filtered_hourly.set_index('Timestamp\\t', inplace= True)"
   ]
  },
  {
   "cell_type": "code",
   "execution_count": 36,
   "metadata": {},
   "outputs": [],
   "source": [
    "import matplotlib.pyplot as plt\n",
    "def plot_rainfall_against_timestamp(column_name):\n",
    "  plt.figure(figsize=(20,6), dpi = 80, linewidth=1)\n",
    "  plt.plot(df_filtered_hourly.index, df_filtered_hourly[column_name], color='b')\n",
    "  plt.title(f'{column_name}')\n",
    "  plt.xlabel('Timestamp', fontsize = 14)\n",
    "  plt.ylabel(f'{column_name}', fontsize = 14)\n",
    "  plt.show()"
   ]
  },
  {
   "cell_type": "code",
   "execution_count": 37,
   "metadata": {},
   "outputs": [
    {
     "name": "stdout",
     "output_type": "stream",
     "text": [
      "Rainfall at Mai Beni\n"
     ]
    },
    {
     "data": {
      "image/png": "[encoded data removed]",
      "text/plain": [
       "<Figure size 1600x480 with 1 Axes>"
      ]
     },
     "metadata": {},
     "output_type": "display_data"
    },
    {
     "name": "stdout",
     "output_type": "stream",
     "text": [
      "Rainfall at Nayabazar - Namsaling\n"
     ]
    },
    {
     "data": {
      "image/png": "[encoded data removed]",
      "text/plain": [
       "<Figure size 1600x480 with 1 Axes>"
      ]
     },
     "metadata": {},
     "output_type": "display_data"
    },
    {
     "name": "stdout",
     "output_type": "stream",
     "text": [
      "Rainfall at Pashupatingar\n"
     ]
    },
    {
     "data": {
      "image/png": "[encoded data removed]",
      "text/plain": [
       "<Figure size 1600x480 with 1 Axes>"
      ]
     },
     "metadata": {},
     "output_type": "display_data"
    },
    {
     "name": "stdout",
     "output_type": "stream",
     "text": [
      "Rainfall at Sandakpur - Valley\n"
     ]
    },
    {
     "data": {
      "image/png": "[encoded data removed]",
      "text/plain": [
       "<Figure size 1600x480 with 1 Axes>"
      ]
     },
     "metadata": {},
     "output_type": "display_data"
    },
    {
     "name": "stdout",
     "output_type": "stream",
     "text": [
      "Water Level at Mai Khola\n"
     ]
    },
    {
     "data": {
      "image/png": "[encoded data removed]",
      "text/plain": [
       "<Figure size 1600x480 with 1 Axes>"
      ]
     },
     "metadata": {},
     "output_type": "display_data"
    }
   ],
   "source": [
    "for column_name in df_filtered_hourly_reversed.columns:\n",
    "  print(column_name)\n",
    "  plot_rainfall_against_timestamp(column_name)"
   ]
  },
  {
   "cell_type": "code",
   "execution_count": 38,
   "metadata": {},
   "outputs": [],
   "source": [
    "def interploate_missing_values_with_time(df: pd.DataFrame, method: str = 'time') -> pd.DataFrame:\n",
    "    \"\"\"\n",
    "    Interpolates missing values in a DataFrame using the specified method.\n",
    "    \n",
    "    Parameters:\n",
    "    - df (pd.DataFrame): The DataFrame to interpolate.\n",
    "    - method (str): The interpolation method to use. Default is 'time'.\n",
    "    \n",
    "    Returns:\n",
    "    - pd.DataFrame: The DataFrame with interpolated values.\n",
    "    \"\"\"\n",
    "    if method not in ['linear', 'time', 'index', 'nearest', 'polynomial', 'spline']:\n",
    "        raise ValueError(\"Invalid interpolation method. Choose from 'linear', 'time', 'index', 'nearest', 'polynomial', 'spline'.\")\n",
    "    \n",
    "    df.interpolate(method=method, inplace=True)\n",
    "    return df\n"
   ]
  },
  {
   "cell_type": "code",
   "execution_count": null,
   "metadata": {},
   "outputs": [],
   "source": []
  },
  {
   "cell_type": "code",
   "execution_count": 39,
   "metadata": {},
   "outputs": [
    {
     "data": {
      "text/plain": [
       "Rainfall at Mai Beni                 0\n",
       "Rainfall at Nayabazar - Namsaling    0\n",
       "Rainfall at Pashupatingar            0\n",
       "Rainfall at Sandakpur - Valley       0\n",
       "Water Level at Mai Khola             0\n",
       "dtype: int64"
      ]
     },
     "execution_count": 39,
     "metadata": {},
     "output_type": "execute_result"
    }
   ],
   "source": [
    "df_filtered_hourly_reversed.isna().sum()"
   ]
  },
  {
   "cell_type": "code",
   "execution_count": 40,
   "metadata": {},
   "outputs": [],
   "source": [
    "import joblib\n",
    "scaler = joblib.load('scaler.save')"
   ]
  },
  {
   "cell_type": "code",
   "execution_count": 41,
   "metadata": {},
   "outputs": [
    {
     "data": {
      "text/html": [
       "<div>\n",
       "<style scoped>\n",
       "    .dataframe tbody tr th:only-of-type {\n",
       "        vertical-align: middle;\n",
       "    }\n",
       "\n",
       "    .dataframe tbody tr th {\n",
       "        vertical-align: top;\n",
       "    }\n",
       "\n",
       "    .dataframe thead th {\n",
       "        text-align: right;\n",
       "    }\n",
       "</style>\n",
       "<table border=\"1\" class=\"dataframe\">\n",
       "  <thead>\n",
       "    <tr style=\"text-align: right;\">\n",
       "      <th></th>\n",
       "      <th>Rainfall at Mai Beni</th>\n",
       "      <th>Rainfall at Nayabazar - Namsaling</th>\n",
       "      <th>Rainfall at Pashupatingar</th>\n",
       "      <th>Rainfall at Sandakpur - Valley</th>\n",
       "      <th>Water Level at Mai Khola</th>\n",
       "    </tr>\n",
       "  </thead>\n",
       "  <tbody>\n",
       "    <tr>\n",
       "      <th>2024-09-08 18:15:00</th>\n",
       "      <td>0.0</td>\n",
       "      <td>0.0</td>\n",
       "      <td>0.0</td>\n",
       "      <td>0.0</td>\n",
       "      <td>1.358000</td>\n",
       "    </tr>\n",
       "    <tr>\n",
       "      <th>2024-09-08 19:15:00</th>\n",
       "      <td>0.0</td>\n",
       "      <td>0.0</td>\n",
       "      <td>0.0</td>\n",
       "      <td>0.0</td>\n",
       "      <td>1.330000</td>\n",
       "    </tr>\n",
       "    <tr>\n",
       "      <th>2024-09-08 20:15:00</th>\n",
       "      <td>0.0</td>\n",
       "      <td>0.0</td>\n",
       "      <td>0.0</td>\n",
       "      <td>0.0</td>\n",
       "      <td>1.335000</td>\n",
       "    </tr>\n",
       "    <tr>\n",
       "      <th>2024-09-08 21:15:00</th>\n",
       "      <td>0.0</td>\n",
       "      <td>0.0</td>\n",
       "      <td>0.0</td>\n",
       "      <td>0.0</td>\n",
       "      <td>1.356999</td>\n",
       "    </tr>\n",
       "    <tr>\n",
       "      <th>2024-09-08 22:15:00</th>\n",
       "      <td>0.0</td>\n",
       "      <td>0.0</td>\n",
       "      <td>0.0</td>\n",
       "      <td>0.0</td>\n",
       "      <td>1.342999</td>\n",
       "    </tr>\n",
       "  </tbody>\n",
       "</table>\n",
       "</div>"
      ],
      "text/plain": [
       "                     Rainfall at Mai Beni  Rainfall at Nayabazar - Namsaling  \\\n",
       "2024-09-08 18:15:00                   0.0                                0.0   \n",
       "2024-09-08 19:15:00                   0.0                                0.0   \n",
       "2024-09-08 20:15:00                   0.0                                0.0   \n",
       "2024-09-08 21:15:00                   0.0                                0.0   \n",
       "2024-09-08 22:15:00                   0.0                                0.0   \n",
       "\n",
       "                     Rainfall at Pashupatingar  \\\n",
       "2024-09-08 18:15:00                        0.0   \n",
       "2024-09-08 19:15:00                        0.0   \n",
       "2024-09-08 20:15:00                        0.0   \n",
       "2024-09-08 21:15:00                        0.0   \n",
       "2024-09-08 22:15:00                        0.0   \n",
       "\n",
       "                     Rainfall at Sandakpur - Valley  Water Level at Mai Khola  \n",
       "2024-09-08 18:15:00                             0.0                  1.358000  \n",
       "2024-09-08 19:15:00                             0.0                  1.330000  \n",
       "2024-09-08 20:15:00                             0.0                  1.335000  \n",
       "2024-09-08 21:15:00                             0.0                  1.356999  \n",
       "2024-09-08 22:15:00                             0.0                  1.342999  "
      ]
     },
     "execution_count": 41,
     "metadata": {},
     "output_type": "execute_result"
    }
   ],
   "source": [
    "df_filtered_hourly_reversed.tail()"
   ]
  },
  {
   "cell_type": "code",
   "execution_count": 42,
   "metadata": {},
   "outputs": [
    {
     "data": {
      "text/plain": [
       "(84, 5)"
      ]
     },
     "execution_count": 42,
     "metadata": {},
     "output_type": "execute_result"
    }
   ],
   "source": [
    "df_filtered_hourly_reversed.shape"
   ]
  },
  {
   "cell_type": "code",
   "execution_count": 43,
   "metadata": {},
   "outputs": [],
   "source": [
    "def last_48_hours(df):\n",
    "    df_last_48_hours = df.tail(48)\n",
    "    return df_last_48_hours"
   ]
  },
  {
   "cell_type": "code",
   "execution_count": 44,
   "metadata": {},
   "outputs": [],
   "source": [
    "df_filtered_hourly_48 = last_48_hours(df_filtered_hourly_reversed)"
   ]
  },
  {
   "cell_type": "code",
   "execution_count": 45,
   "metadata": {},
   "outputs": [
    {
     "data": {
      "text/html": [
       "<div>\n",
       "<style scoped>\n",
       "    .dataframe tbody tr th:only-of-type {\n",
       "        vertical-align: middle;\n",
       "    }\n",
       "\n",
       "    .dataframe tbody tr th {\n",
       "        vertical-align: top;\n",
       "    }\n",
       "\n",
       "    .dataframe thead th {\n",
       "        text-align: right;\n",
       "    }\n",
       "</style>\n",
       "<table border=\"1\" class=\"dataframe\">\n",
       "  <thead>\n",
       "    <tr style=\"text-align: right;\">\n",
       "      <th></th>\n",
       "      <th>Rainfall at Mai Beni</th>\n",
       "      <th>Rainfall at Nayabazar - Namsaling</th>\n",
       "      <th>Rainfall at Pashupatingar</th>\n",
       "      <th>Rainfall at Sandakpur - Valley</th>\n",
       "      <th>Water Level at Mai Khola</th>\n",
       "    </tr>\n",
       "  </thead>\n",
       "  <tbody>\n",
       "    <tr>\n",
       "      <th>2024-09-06 23:15:00</th>\n",
       "      <td>0.0</td>\n",
       "      <td>0.0</td>\n",
       "      <td>0.0</td>\n",
       "      <td>0.0</td>\n",
       "      <td>1.351000</td>\n",
       "    </tr>\n",
       "    <tr>\n",
       "      <th>2024-09-07 00:15:00</th>\n",
       "      <td>0.0</td>\n",
       "      <td>0.0</td>\n",
       "      <td>0.0</td>\n",
       "      <td>0.0</td>\n",
       "      <td>1.355000</td>\n",
       "    </tr>\n",
       "    <tr>\n",
       "      <th>2024-09-07 01:15:00</th>\n",
       "      <td>0.0</td>\n",
       "      <td>0.0</td>\n",
       "      <td>0.0</td>\n",
       "      <td>0.0</td>\n",
       "      <td>1.379000</td>\n",
       "    </tr>\n",
       "    <tr>\n",
       "      <th>2024-09-07 02:15:00</th>\n",
       "      <td>0.0</td>\n",
       "      <td>0.0</td>\n",
       "      <td>0.0</td>\n",
       "      <td>0.0</td>\n",
       "      <td>1.356000</td>\n",
       "    </tr>\n",
       "    <tr>\n",
       "      <th>2024-09-07 03:15:00</th>\n",
       "      <td>0.0</td>\n",
       "      <td>0.0</td>\n",
       "      <td>0.0</td>\n",
       "      <td>0.0</td>\n",
       "      <td>1.377000</td>\n",
       "    </tr>\n",
       "    <tr>\n",
       "      <th>2024-09-07 04:15:00</th>\n",
       "      <td>0.0</td>\n",
       "      <td>0.0</td>\n",
       "      <td>0.0</td>\n",
       "      <td>0.0</td>\n",
       "      <td>1.382000</td>\n",
       "    </tr>\n",
       "    <tr>\n",
       "      <th>2024-09-07 05:15:00</th>\n",
       "      <td>0.0</td>\n",
       "      <td>0.0</td>\n",
       "      <td>0.0</td>\n",
       "      <td>0.0</td>\n",
       "      <td>1.396999</td>\n",
       "    </tr>\n",
       "    <tr>\n",
       "      <th>2024-09-07 06:15:00</th>\n",
       "      <td>0.0</td>\n",
       "      <td>0.0</td>\n",
       "      <td>0.0</td>\n",
       "      <td>0.0</td>\n",
       "      <td>1.410999</td>\n",
       "    </tr>\n",
       "    <tr>\n",
       "      <th>2024-09-07 07:15:00</th>\n",
       "      <td>0.0</td>\n",
       "      <td>0.0</td>\n",
       "      <td>0.0</td>\n",
       "      <td>0.0</td>\n",
       "      <td>1.412999</td>\n",
       "    </tr>\n",
       "    <tr>\n",
       "      <th>2024-09-07 08:15:00</th>\n",
       "      <td>0.0</td>\n",
       "      <td>0.0</td>\n",
       "      <td>0.0</td>\n",
       "      <td>0.0</td>\n",
       "      <td>1.434000</td>\n",
       "    </tr>\n",
       "    <tr>\n",
       "      <th>2024-09-07 09:15:00</th>\n",
       "      <td>0.0</td>\n",
       "      <td>0.0</td>\n",
       "      <td>0.0</td>\n",
       "      <td>0.0</td>\n",
       "      <td>1.450000</td>\n",
       "    </tr>\n",
       "    <tr>\n",
       "      <th>2024-09-07 10:15:00</th>\n",
       "      <td>0.0</td>\n",
       "      <td>0.0</td>\n",
       "      <td>0.0</td>\n",
       "      <td>0.0</td>\n",
       "      <td>1.535999</td>\n",
       "    </tr>\n",
       "    <tr>\n",
       "      <th>2024-09-07 11:15:00</th>\n",
       "      <td>0.0</td>\n",
       "      <td>0.0</td>\n",
       "      <td>0.0</td>\n",
       "      <td>0.0</td>\n",
       "      <td>1.504000</td>\n",
       "    </tr>\n",
       "    <tr>\n",
       "      <th>2024-09-07 12:15:00</th>\n",
       "      <td>0.0</td>\n",
       "      <td>0.0</td>\n",
       "      <td>0.0</td>\n",
       "      <td>0.0</td>\n",
       "      <td>1.579000</td>\n",
       "    </tr>\n",
       "    <tr>\n",
       "      <th>2024-09-07 13:15:00</th>\n",
       "      <td>0.0</td>\n",
       "      <td>5.0</td>\n",
       "      <td>0.0</td>\n",
       "      <td>0.4</td>\n",
       "      <td>1.493999</td>\n",
       "    </tr>\n",
       "    <tr>\n",
       "      <th>2024-09-07 14:15:00</th>\n",
       "      <td>0.0</td>\n",
       "      <td>0.0</td>\n",
       "      <td>0.0</td>\n",
       "      <td>0.0</td>\n",
       "      <td>1.339000</td>\n",
       "    </tr>\n",
       "    <tr>\n",
       "      <th>2024-09-07 15:15:00</th>\n",
       "      <td>0.0</td>\n",
       "      <td>0.0</td>\n",
       "      <td>0.0</td>\n",
       "      <td>0.0</td>\n",
       "      <td>1.351000</td>\n",
       "    </tr>\n",
       "    <tr>\n",
       "      <th>2024-09-07 16:15:00</th>\n",
       "      <td>0.0</td>\n",
       "      <td>0.0</td>\n",
       "      <td>0.0</td>\n",
       "      <td>0.0</td>\n",
       "      <td>1.335000</td>\n",
       "    </tr>\n",
       "    <tr>\n",
       "      <th>2024-09-07 17:15:00</th>\n",
       "      <td>0.0</td>\n",
       "      <td>0.0</td>\n",
       "      <td>0.0</td>\n",
       "      <td>0.0</td>\n",
       "      <td>1.344000</td>\n",
       "    </tr>\n",
       "    <tr>\n",
       "      <th>2024-09-07 18:15:00</th>\n",
       "      <td>0.0</td>\n",
       "      <td>0.0</td>\n",
       "      <td>0.0</td>\n",
       "      <td>0.0</td>\n",
       "      <td>1.342000</td>\n",
       "    </tr>\n",
       "    <tr>\n",
       "      <th>2024-09-07 19:15:00</th>\n",
       "      <td>0.0</td>\n",
       "      <td>0.0</td>\n",
       "      <td>0.0</td>\n",
       "      <td>0.0</td>\n",
       "      <td>1.356999</td>\n",
       "    </tr>\n",
       "    <tr>\n",
       "      <th>2024-09-07 20:15:00</th>\n",
       "      <td>0.0</td>\n",
       "      <td>0.0</td>\n",
       "      <td>0.0</td>\n",
       "      <td>0.0</td>\n",
       "      <td>1.353000</td>\n",
       "    </tr>\n",
       "    <tr>\n",
       "      <th>2024-09-07 21:15:00</th>\n",
       "      <td>0.0</td>\n",
       "      <td>0.0</td>\n",
       "      <td>0.0</td>\n",
       "      <td>0.0</td>\n",
       "      <td>1.355000</td>\n",
       "    </tr>\n",
       "    <tr>\n",
       "      <th>2024-09-07 22:15:00</th>\n",
       "      <td>0.0</td>\n",
       "      <td>0.0</td>\n",
       "      <td>0.0</td>\n",
       "      <td>0.0</td>\n",
       "      <td>1.372000</td>\n",
       "    </tr>\n",
       "  </tbody>\n",
       "</table>\n",
       "</div>"
      ],
      "text/plain": [
       "                     Rainfall at Mai Beni  Rainfall at Nayabazar - Namsaling  \\\n",
       "2024-09-06 23:15:00                   0.0                                0.0   \n",
       "2024-09-07 00:15:00                   0.0                                0.0   \n",
       "2024-09-07 01:15:00                   0.0                                0.0   \n",
       "2024-09-07 02:15:00                   0.0                                0.0   \n",
       "2024-09-07 03:15:00                   0.0                                0.0   \n",
       "2024-09-07 04:15:00                   0.0                                0.0   \n",
       "2024-09-07 05:15:00                   0.0                                0.0   \n",
       "2024-09-07 06:15:00                   0.0                                0.0   \n",
       "2024-09-07 07:15:00                   0.0                                0.0   \n",
       "2024-09-07 08:15:00                   0.0                                0.0   \n",
       "2024-09-07 09:15:00                   0.0                                0.0   \n",
       "2024-09-07 10:15:00                   0.0                                0.0   \n",
       "2024-09-07 11:15:00                   0.0                                0.0   \n",
       "2024-09-07 12:15:00                   0.0                                0.0   \n",
       "2024-09-07 13:15:00                   0.0                                5.0   \n",
       "2024-09-07 14:15:00                   0.0                                0.0   \n",
       "2024-09-07 15:15:00                   0.0                                0.0   \n",
       "2024-09-07 16:15:00                   0.0                                0.0   \n",
       "2024-09-07 17:15:00                   0.0                                0.0   \n",
       "2024-09-07 18:15:00                   0.0                                0.0   \n",
       "2024-09-07 19:15:00                   0.0                                0.0   \n",
       "2024-09-07 20:15:00                   0.0                                0.0   \n",
       "2024-09-07 21:15:00                   0.0                                0.0   \n",
       "2024-09-07 22:15:00                   0.0                                0.0   \n",
       "\n",
       "                     Rainfall at Pashupatingar  \\\n",
       "2024-09-06 23:15:00                        0.0   \n",
       "2024-09-07 00:15:00                        0.0   \n",
       "2024-09-07 01:15:00                        0.0   \n",
       "2024-09-07 02:15:00                        0.0   \n",
       "2024-09-07 03:15:00                        0.0   \n",
       "2024-09-07 04:15:00                        0.0   \n",
       "2024-09-07 05:15:00                        0.0   \n",
       "2024-09-07 06:15:00                        0.0   \n",
       "2024-09-07 07:15:00                        0.0   \n",
       "2024-09-07 08:15:00                        0.0   \n",
       "2024-09-07 09:15:00                        0.0   \n",
       "2024-09-07 10:15:00                        0.0   \n",
       "2024-09-07 11:15:00                        0.0   \n",
       "2024-09-07 12:15:00                        0.0   \n",
       "2024-09-07 13:15:00                        0.0   \n",
       "2024-09-07 14:15:00                        0.0   \n",
       "2024-09-07 15:15:00                        0.0   \n",
       "2024-09-07 16:15:00                        0.0   \n",
       "2024-09-07 17:15:00                        0.0   \n",
       "2024-09-07 18:15:00                        0.0   \n",
       "2024-09-07 19:15:00                        0.0   \n",
       "2024-09-07 20:15:00                        0.0   \n",
       "2024-09-07 21:15:00                        0.0   \n",
       "2024-09-07 22:15:00                        0.0   \n",
       "\n",
       "                     Rainfall at Sandakpur - Valley  Water Level at Mai Khola  \n",
       "2024-09-06 23:15:00                             0.0                  1.351000  \n",
       "2024-09-07 00:15:00                             0.0                  1.355000  \n",
       "2024-09-07 01:15:00                             0.0                  1.379000  \n",
       "2024-09-07 02:15:00                             0.0                  1.356000  \n",
       "2024-09-07 03:15:00                             0.0                  1.377000  \n",
       "2024-09-07 04:15:00                             0.0                  1.382000  \n",
       "2024-09-07 05:15:00                             0.0                  1.396999  \n",
       "2024-09-07 06:15:00                             0.0                  1.410999  \n",
       "2024-09-07 07:15:00                             0.0                  1.412999  \n",
       "2024-09-07 08:15:00                             0.0                  1.434000  \n",
       "2024-09-07 09:15:00                             0.0                  1.450000  \n",
       "2024-09-07 10:15:00                             0.0                  1.535999  \n",
       "2024-09-07 11:15:00                             0.0                  1.504000  \n",
       "2024-09-07 12:15:00                             0.0                  1.579000  \n",
       "2024-09-07 13:15:00                             0.4                  1.493999  \n",
       "2024-09-07 14:15:00                             0.0                  1.339000  \n",
       "2024-09-07 15:15:00                             0.0                  1.351000  \n",
       "2024-09-07 16:15:00                             0.0                  1.335000  \n",
       "2024-09-07 17:15:00                             0.0                  1.344000  \n",
       "2024-09-07 18:15:00                             0.0                  1.342000  \n",
       "2024-09-07 19:15:00                             0.0                  1.356999  \n",
       "2024-09-07 20:15:00                             0.0                  1.353000  \n",
       "2024-09-07 21:15:00                             0.0                  1.355000  \n",
       "2024-09-07 22:15:00                             0.0                  1.372000  "
      ]
     },
     "execution_count": 45,
     "metadata": {},
     "output_type": "execute_result"
    }
   ],
   "source": [
    "df_filtered_hourly_48.head(24)\n"
   ]
  },
  {
   "cell_type": "code",
   "execution_count": 46,
   "metadata": {},
   "outputs": [
    {
     "data": {
      "text/plain": [
       "(48, 5)"
      ]
     },
     "execution_count": 46,
     "metadata": {},
     "output_type": "execute_result"
    }
   ],
   "source": [
    "df_filtered_hourly_48.shape"
   ]
  },
  {
   "cell_type": "code",
   "execution_count": 47,
   "metadata": {},
   "outputs": [
    {
     "name": "stderr",
     "output_type": "stream",
     "text": [
      "/home/nightwing/anaconda3/envs/DL/lib/python3.10/site-packages/sklearn/base.py:486: UserWarning: X has feature names, but MinMaxScaler was fitted without feature names\n",
      "  warnings.warn(\n"
     ]
    }
   ],
   "source": [
    "df_scaled = scaler.transform(df_filtered_hourly_48)"
   ]
  },
  {
   "cell_type": "code",
   "execution_count": 48,
   "metadata": {},
   "outputs": [
    {
     "data": {
      "text/plain": [
       "array([[0.        , 0.        , 0.        , 0.        , 0.32639746],\n",
       "       [0.        , 0.        , 0.        , 0.        , 0.32763961],\n",
       "       [0.        , 0.        , 0.        , 0.        , 0.33509308],\n",
       "       [0.        , 0.        , 0.        , 0.        , 0.32795029],\n",
       "       [0.        , 0.        , 0.        , 0.        , 0.334472  ],\n",
       "       [0.        , 0.        , 0.        , 0.        , 0.33602484],\n",
       "       [0.        , 0.        , 0.        , 0.        , 0.34068303],\n",
       "       [0.        , 0.        , 0.        , 0.        , 0.34503084],\n",
       "       [0.        , 0.        , 0.        , 0.        , 0.34565191],\n",
       "       [0.        , 0.        , 0.        , 0.        , 0.35217392],\n",
       "       [0.        , 0.        , 0.        , 0.        , 0.3571428 ],\n",
       "       [0.        , 0.        , 0.        , 0.        , 0.38385071],\n",
       "       [0.        , 0.        , 0.        , 0.        , 0.37391295],\n",
       "       [0.        , 0.        , 0.        , 0.        , 0.39720482],\n",
       "       [0.        , 0.11160714, 0.        , 0.01169591, 0.37080729],\n",
       "       [0.        , 0.        , 0.        , 0.        , 0.32267073],\n",
       "       [0.        , 0.        , 0.        , 0.        , 0.32639746],\n",
       "       [0.        , 0.        , 0.        , 0.        , 0.32142858],\n",
       "       [0.        , 0.        , 0.        , 0.        , 0.32422356],\n",
       "       [0.        , 0.        , 0.        , 0.        , 0.32360249],\n",
       "       [0.        , 0.        , 0.        , 0.        , 0.32826068],\n",
       "       [0.        , 0.        , 0.        , 0.        , 0.32701854],\n",
       "       [0.        , 0.        , 0.        , 0.        , 0.32763961],\n",
       "       [0.        , 0.        , 0.        , 0.        , 0.33291917],\n",
       "       [0.        , 0.        , 0.        , 0.        , 0.33322956],\n",
       "       [0.        , 0.        , 0.        , 0.        , 0.33260849],\n",
       "       [0.        , 0.        , 0.        , 0.        , 0.33757767],\n",
       "       [0.        , 0.        , 0.        , 0.        , 0.34316762],\n",
       "       [0.        , 0.        , 0.        , 0.        , 0.34658367],\n",
       "       [0.        , 0.        , 0.        , 0.        , 0.35403714],\n",
       "       [0.        , 0.        , 0.        , 0.        , 0.36708056],\n",
       "       [0.        , 0.        , 0.        , 0.        , 0.37670793],\n",
       "       [0.        , 0.        , 0.        , 0.        , 0.39813658],\n",
       "       [0.        , 0.        , 0.        , 0.        , 0.41521742],\n",
       "       [0.        , 0.        , 0.        , 0.        , 0.4360247 ],\n",
       "       [0.        , 0.        , 0.        , 0.        , 0.40496897],\n",
       "       [0.        , 0.        , 0.        , 0.        , 0.39347809],\n",
       "       [0.        , 0.        , 0.        , 0.        , 0.31614902],\n",
       "       [0.        , 0.        , 0.        , 0.        , 0.30962731],\n",
       "       [0.        , 0.        , 0.        , 0.        , 0.31863331],\n",
       "       [0.        , 0.        , 0.        , 0.        , 0.32080721],\n",
       "       [0.        , 0.        , 0.        , 0.        , 0.32018614],\n",
       "       [0.        , 0.        , 0.        , 0.        , 0.31863331],\n",
       "       [0.        , 0.        , 0.        , 0.        , 0.32857137],\n",
       "       [0.        , 0.        , 0.        , 0.        , 0.31987575],\n",
       "       [0.        , 0.        , 0.        , 0.        , 0.32142858],\n",
       "       [0.        , 0.        , 0.        , 0.        , 0.32826068],\n",
       "       [0.        , 0.        , 0.        , 0.        , 0.32391288]])"
      ]
     },
     "execution_count": 48,
     "metadata": {},
     "output_type": "execute_result"
    }
   ],
   "source": [
    "df_scaled"
   ]
  },
  {
   "cell_type": "code",
   "execution_count": 49,
   "metadata": {},
   "outputs": [],
   "source": [
    "# import numpy as np\n",
    "\n",
    "# def create_sequences(data, n_steps_in, n_steps_out):\n",
    "#     X, y = [], []\n",
    "#     for i in range(len(data) - n_steps_in - n_steps_out + 1):\n",
    "#         end_ix = i + n_steps_in\n",
    "#         out_end_ix = end_ix + n_steps_out\n",
    "        \n",
    "#         # Input sequence includes all 5 features (including target variable)\n",
    "#         seq_x = data[i:end_ix, :]\n",
    "        \n",
    "#         # Output sequence is only the target variable for the next n_steps_out\n",
    "#         seq_y = data[end_ix:out_end_ix, -1]\n",
    "        \n",
    "#         X.append(seq_x)\n",
    "#         y.append(seq_y)\n",
    "#     return np.array(X), np.array(y)\n"
   ]
  },
  {
   "cell_type": "code",
   "execution_count": 50,
   "metadata": {},
   "outputs": [],
   "source": [
    "def preprocess_data(df, scaler, n_steps_in):\n",
    "    # Ensure the dataframe has the same columns as the training data\n",
    "    # Scale the data\n",
    "    df_scaled = scaler.transform(df)\n",
    "    \n",
    "    # Create sequences\n",
    "    X = []\n",
    "    for i in range(len(df_scaled) - n_steps_in + 1):\n",
    "        X.append(df_scaled[i:i+n_steps_in, :])\n",
    "    \n",
    "    return np.array(X)"
   ]
  },
  {
   "cell_type": "code",
   "execution_count": 51,
   "metadata": {},
   "outputs": [],
   "source": [
    "def postprocess_predictions(predictions, scaler):\n",
    "    # Convert predictions to a 2D array (n_samples, 1)\n",
    "    predictions = np.array(predictions).reshape(-1, 1)\n",
    "    \n",
    "    # Create dummy columns for the rainfall data (which won't be used)\n",
    "    dummy_rainfall = np.zeros((predictions.shape[0], 4))  # 4 columns for rainfall\n",
    "\n",
    "    # Concatenate the predictions (water levels) with the dummy rainfall data\n",
    "    predictions_with_rainfall = np.hstack((dummy_rainfall, predictions))\n",
    "\n",
    "    # Apply inverse_transform\n",
    "    inverse_scaled_predictions = scaler.inverse_transform(predictions_with_rainfall)\n",
    "\n",
    "    # Return only the water level column\n",
    "    return inverse_scaled_predictions[:, -1]\n"
   ]
  },
  {
   "cell_type": "code",
   "execution_count": 52,
   "metadata": {},
   "outputs": [
    {
     "name": "stderr",
     "output_type": "stream",
     "text": [
      "2024-09-10 14:21:46.997286: I external/local_xla/xla/tsl/cuda/cudart_stub.cc:32] Could not find cuda drivers on your machine, GPU will not be used.\n",
      "2024-09-10 14:21:47.008431: I external/local_xla/xla/tsl/cuda/cudart_stub.cc:32] Could not find cuda drivers on your machine, GPU will not be used.\n",
      "2024-09-10 14:21:47.066496: E external/local_xla/xla/stream_executor/cuda/cuda_fft.cc:485] Unable to register cuFFT factory: Attempting to register factory for plugin cuFFT when one has already been registered\n",
      "2024-09-10 14:21:47.162461: E external/local_xla/xla/stream_executor/cuda/cuda_dnn.cc:8454] Unable to register cuDNN factory: Attempting to register factory for plugin cuDNN when one has already been registered\n",
      "2024-09-10 14:21:47.189930: E external/local_xla/xla/stream_executor/cuda/cuda_blas.cc:1452] Unable to register cuBLAS factory: Attempting to register factory for plugin cuBLAS when one has already been registered\n",
      "2024-09-10 14:21:47.233546: I tensorflow/core/platform/cpu_feature_guard.cc:210] This TensorFlow binary is optimized to use available CPU instructions in performance-critical operations.\n",
      "To enable the following instructions: AVX2 FMA, in other operations, rebuild TensorFlow with the appropriate compiler flags.\n"
     ]
    },
    {
     "name": "stderr",
     "output_type": "stream",
     "text": [
      "2024-09-10 14:21:50.947551: W tensorflow/compiler/tf2tensorrt/utils/py_utils.cc:38] TF-TRT Warning: Could not find TensorRT\n",
      "WARNING:absl:Compiled the loaded model, but the compiled metrics have yet to be built. `model.compile_metrics` will be empty until you train or evaluate the model.\n"
     ]
    }
   ],
   "source": [
    "from tensorflow.keras.models import load_model\n",
    "from sklearn.metrics import mean_squared_error\n",
    "model = load_model('models/best_4_model_v2.h5', custom_objects={'mse':mean_squared_error})"
   ]
  },
  {
   "cell_type": "code",
   "execution_count": 53,
   "metadata": {},
   "outputs": [],
   "source": [
    "# df = interploate_missing_values_with_time(df, 'time')"
   ]
  },
  {
   "cell_type": "code",
   "execution_count": 54,
   "metadata": {},
   "outputs": [],
   "source": [
    "def predict_water_levels(df, n_steps_in, n_steps_out):\n",
    "    # Fetch and preprocess data\n",
    "    df = df_filtered_hourly_48\n",
    "\n",
    "    # Ensure you use the same scaler as the one used during training\n",
    "    X = preprocess_data(df, scaler, n_steps_in)\n",
    "\n",
    "    # Make predictions for the next 4 hours\n",
    "    predictions = model.predict(X)\n",
    "\n",
    "    # Post-process predictions (inverse transform to get actual water levels)\n",
    "    predictions = postprocess_predictions(predictions, scaler)\n",
    "\n",
    "    return predictions"
   ]
  },
  {
   "cell_type": "code",
   "execution_count": 55,
   "metadata": {},
   "outputs": [],
   "source": [
    "n_steps_in = 48 \n",
    "n_steps_out = 4"
   ]
  },
  {
   "cell_type": "code",
   "execution_count": 56,
   "metadata": {},
   "outputs": [],
   "source": [
    "# df = pd.read_csv('/home/nightwing/Codes/LSTM_for_waterlevel_prediction/test_data/last_48_hours_data.csv')"
   ]
  },
  {
   "cell_type": "code",
   "execution_count": 57,
   "metadata": {},
   "outputs": [
    {
     "data": {
      "text/plain": [
       "array([[0.        , 0.        , 0.        , 0.        , 0.32639746],\n",
       "       [0.        , 0.        , 0.        , 0.        , 0.32763961],\n",
       "       [0.        , 0.        , 0.        , 0.        , 0.33509308],\n",
       "       [0.        , 0.        , 0.        , 0.        , 0.32795029],\n",
       "       [0.        , 0.        , 0.        , 0.        , 0.334472  ],\n",
       "       [0.        , 0.        , 0.        , 0.        , 0.33602484],\n",
       "       [0.        , 0.        , 0.        , 0.        , 0.34068303],\n",
       "       [0.        , 0.        , 0.        , 0.        , 0.34503084],\n",
       "       [0.        , 0.        , 0.        , 0.        , 0.34565191],\n",
       "       [0.        , 0.        , 0.        , 0.        , 0.35217392],\n",
       "       [0.        , 0.        , 0.        , 0.        , 0.3571428 ],\n",
       "       [0.        , 0.        , 0.        , 0.        , 0.38385071],\n",
       "       [0.        , 0.        , 0.        , 0.        , 0.37391295],\n",
       "       [0.        , 0.        , 0.        , 0.        , 0.39720482],\n",
       "       [0.        , 0.11160714, 0.        , 0.01169591, 0.37080729],\n",
       "       [0.        , 0.        , 0.        , 0.        , 0.32267073],\n",
       "       [0.        , 0.        , 0.        , 0.        , 0.32639746],\n",
       "       [0.        , 0.        , 0.        , 0.        , 0.32142858],\n",
       "       [0.        , 0.        , 0.        , 0.        , 0.32422356],\n",
       "       [0.        , 0.        , 0.        , 0.        , 0.32360249],\n",
       "       [0.        , 0.        , 0.        , 0.        , 0.32826068],\n",
       "       [0.        , 0.        , 0.        , 0.        , 0.32701854],\n",
       "       [0.        , 0.        , 0.        , 0.        , 0.32763961],\n",
       "       [0.        , 0.        , 0.        , 0.        , 0.33291917],\n",
       "       [0.        , 0.        , 0.        , 0.        , 0.33322956],\n",
       "       [0.        , 0.        , 0.        , 0.        , 0.33260849],\n",
       "       [0.        , 0.        , 0.        , 0.        , 0.33757767],\n",
       "       [0.        , 0.        , 0.        , 0.        , 0.34316762],\n",
       "       [0.        , 0.        , 0.        , 0.        , 0.34658367],\n",
       "       [0.        , 0.        , 0.        , 0.        , 0.35403714],\n",
       "       [0.        , 0.        , 0.        , 0.        , 0.36708056],\n",
       "       [0.        , 0.        , 0.        , 0.        , 0.37670793],\n",
       "       [0.        , 0.        , 0.        , 0.        , 0.39813658],\n",
       "       [0.        , 0.        , 0.        , 0.        , 0.41521742],\n",
       "       [0.        , 0.        , 0.        , 0.        , 0.4360247 ],\n",
       "       [0.        , 0.        , 0.        , 0.        , 0.40496897],\n",
       "       [0.        , 0.        , 0.        , 0.        , 0.39347809],\n",
       "       [0.        , 0.        , 0.        , 0.        , 0.31614902],\n",
       "       [0.        , 0.        , 0.        , 0.        , 0.30962731],\n",
       "       [0.        , 0.        , 0.        , 0.        , 0.31863331],\n",
       "       [0.        , 0.        , 0.        , 0.        , 0.32080721],\n",
       "       [0.        , 0.        , 0.        , 0.        , 0.32018614],\n",
       "       [0.        , 0.        , 0.        , 0.        , 0.31863331],\n",
       "       [0.        , 0.        , 0.        , 0.        , 0.32857137],\n",
       "       [0.        , 0.        , 0.        , 0.        , 0.31987575],\n",
       "       [0.        , 0.        , 0.        , 0.        , 0.32142858],\n",
       "       [0.        , 0.        , 0.        , 0.        , 0.32826068],\n",
       "       [0.        , 0.        , 0.        , 0.        , 0.32391288]])"
      ]
     },
     "execution_count": 57,
     "metadata": {},
     "output_type": "execute_result"
    }
   ],
   "source": [
    "df_scaled"
   ]
  },
  {
   "cell_type": "code",
   "execution_count": 58,
   "metadata": {},
   "outputs": [
    {
     "data": {
      "text/plain": [
       "(667, 7)"
      ]
     },
     "execution_count": 58,
     "metadata": {},
     "output_type": "execute_result"
    }
   ],
   "source": [
    "df.shape"
   ]
  },
  {
   "cell_type": "code",
   "execution_count": 59,
   "metadata": {},
   "outputs": [
    {
     "name": "stderr",
     "output_type": "stream",
     "text": [
      "/home/nightwing/anaconda3/envs/DL/lib/python3.10/site-packages/sklearn/base.py:486: UserWarning: X has feature names, but MinMaxScaler was fitted without feature names\n",
      "  warnings.warn(\n"
     ]
    },
    {
     "name": "stdout",
     "output_type": "stream",
     "text": [
      "\u001b[1m1/1\u001b[0m \u001b[32m━━━━━━━━━━━━━━━━━━━━\u001b[0m\u001b[37m\u001b[0m \u001b[1m1s\u001b[0m 1s/step\n"
     ]
    }
   ],
   "source": [
    "prediction_next_4_hours = predict_water_levels(df_scaled,n_steps_in, n_steps_out )"
   ]
  },
  {
   "cell_type": "code",
   "execution_count": 60,
   "metadata": {},
   "outputs": [
    {
     "name": "stdout",
     "output_type": "stream",
     "text": [
      "[1.33921038 1.33601614 1.33699631 1.33688519]\n"
     ]
    }
   ],
   "source": [
    "print(prediction_next_4_hours)"
   ]
  },
  {
   "cell_type": "code",
   "execution_count": 61,
   "metadata": {},
   "outputs": [
    {
     "name": "stdout",
     "output_type": "stream",
     "text": [
      "predicted values  [1.33921038 1.33601614 1.33699631 1.33688519]\n",
      "Predicted values shape (4,)\n"
     ]
    }
   ],
   "source": [
    "print(\"predicted values \", prediction_next_4_hours)\n",
    "print(\"Predicted values shape\", prediction_next_4_hours.shape)"
   ]
  },
  {
   "cell_type": "code",
   "execution_count": 62,
   "metadata": {},
   "outputs": [],
   "source": [
    "df_from_experiments = pd.read_csv(\"/home/nightwing/Codes/LSTM_for_waterlevel_prediction/test_data/last_48_hours_data.csv\")"
   ]
  },
  {
   "cell_type": "code",
   "execution_count": 63,
   "metadata": {},
   "outputs": [
    {
     "data": {
      "text/html": [
       "<div>\n",
       "<style scoped>\n",
       "    .dataframe tbody tr th:only-of-type {\n",
       "        vertical-align: middle;\n",
       "    }\n",
       "\n",
       "    .dataframe tbody tr th {\n",
       "        vertical-align: top;\n",
       "    }\n",
       "\n",
       "    .dataframe thead th {\n",
       "        text-align: right;\n",
       "    }\n",
       "</style>\n",
       "<table border=\"1\" class=\"dataframe\">\n",
       "  <thead>\n",
       "    <tr style=\"text-align: right;\">\n",
       "      <th></th>\n",
       "      <th>Unnamed: 0</th>\n",
       "      <th>Rainfall at Mai Beni</th>\n",
       "      <th>Rainfall at Nayabazar - Namsaling</th>\n",
       "      <th>Rainfall at Pashupatingar</th>\n",
       "      <th>Rainfall at Sandakpur - Valley</th>\n",
       "      <th>Water Level at Mai Khola</th>\n",
       "    </tr>\n",
       "  </thead>\n",
       "  <tbody>\n",
       "    <tr>\n",
       "      <th>0</th>\n",
       "      <td>2024-09-09 01:25:00</td>\n",
       "      <td>0.0</td>\n",
       "      <td>NaN</td>\n",
       "      <td>0.0</td>\n",
       "      <td>NaN</td>\n",
       "      <td>1.365999</td>\n",
       "    </tr>\n",
       "    <tr>\n",
       "      <th>1</th>\n",
       "      <td>2024-09-09 00:25:00</td>\n",
       "      <td>0.0</td>\n",
       "      <td>NaN</td>\n",
       "      <td>0.0</td>\n",
       "      <td>NaN</td>\n",
       "      <td>1.384000</td>\n",
       "    </tr>\n",
       "    <tr>\n",
       "      <th>2</th>\n",
       "      <td>2024-09-08 23:25:00</td>\n",
       "      <td>0.0</td>\n",
       "      <td>NaN</td>\n",
       "      <td>0.0</td>\n",
       "      <td>NaN</td>\n",
       "      <td>1.396999</td>\n",
       "    </tr>\n",
       "    <tr>\n",
       "      <th>3</th>\n",
       "      <td>2024-09-08 22:25:00</td>\n",
       "      <td>0.0</td>\n",
       "      <td>NaN</td>\n",
       "      <td>0.0</td>\n",
       "      <td>NaN</td>\n",
       "      <td>1.358999</td>\n",
       "    </tr>\n",
       "    <tr>\n",
       "      <th>4</th>\n",
       "      <td>2024-09-08 21:25:00</td>\n",
       "      <td>0.0</td>\n",
       "      <td>NaN</td>\n",
       "      <td>0.0</td>\n",
       "      <td>NaN</td>\n",
       "      <td>1.341000</td>\n",
       "    </tr>\n",
       "  </tbody>\n",
       "</table>\n",
       "</div>"
      ],
      "text/plain": [
       "            Unnamed: 0  Rainfall at Mai Beni  \\\n",
       "0  2024-09-09 01:25:00                   0.0   \n",
       "1  2024-09-09 00:25:00                   0.0   \n",
       "2  2024-09-08 23:25:00                   0.0   \n",
       "3  2024-09-08 22:25:00                   0.0   \n",
       "4  2024-09-08 21:25:00                   0.0   \n",
       "\n",
       "   Rainfall at Nayabazar - Namsaling  Rainfall at Pashupatingar  \\\n",
       "0                                NaN                        0.0   \n",
       "1                                NaN                        0.0   \n",
       "2                                NaN                        0.0   \n",
       "3                                NaN                        0.0   \n",
       "4                                NaN                        0.0   \n",
       "\n",
       "   Rainfall at Sandakpur - Valley  Water Level at Mai Khola  \n",
       "0                             NaN                  1.365999  \n",
       "1                             NaN                  1.384000  \n",
       "2                             NaN                  1.396999  \n",
       "3                             NaN                  1.358999  \n",
       "4                             NaN                  1.341000  "
      ]
     },
     "execution_count": 63,
     "metadata": {},
     "output_type": "execute_result"
    }
   ],
   "source": [
    "df_from_experiments.head()"
   ]
  },
  {
   "cell_type": "code",
   "execution_count": 72,
   "metadata": {},
   "outputs": [],
   "source": [
    "def get_prediction(df):\n",
    "    df_reordered = reorder_dataframe(df)\n",
    "    df_formatted_timestamp = convert_timestamps(df_reordered, 'Timestamp')\n",
    "    df_datetime_index = set_datetime_index(df_formatted_timestamp, 'Timestamp')\n",
    "    df_filtered_hourly = create_new_dataframe_with_reduced_timestamps(df_datetime_index)\n",
    "    df_interpolated = interploate_missing_values_with_time(df_filtered_hourly, 'time')\n",
    "    df_last_48_hours_data = last_48_hours(df_interpolated)\n",
    "    prediction_next_4_hours = predict_water_levels(df_last_48_hours_data, n_steps_in, n_steps_out)\n",
    "    return prediction_next_4_hours\n",
    "\n",
    "    "
   ]
  },
  {
   "cell_type": "code",
   "execution_count": 73,
   "metadata": {},
   "outputs": [
    {
     "name": "stdout",
     "output_type": "stream",
     "text": [
      "\u001b[1m1/1\u001b[0m \u001b[32m━━━━━━━━━━━━━━━━━━━━\u001b[0m\u001b[37m\u001b[0m \u001b[1m0s\u001b[0m 71ms/step\n"
     ]
    },
    {
     "name": "stderr",
     "output_type": "stream",
     "text": [
      "/tmp/ipykernel_19765/4041213274.py:41: FutureWarning: 'H' is deprecated and will be removed in a future version, please use 'h' instead.\n",
      "  new_df.index = pd.date_range(end=df.index[-1], periods=len(new_df), freq=f'-{hours}H')\n",
      "/home/nightwing/anaconda3/envs/DL/lib/python3.10/site-packages/sklearn/base.py:486: UserWarning: X has feature names, but MinMaxScaler was fitted without feature names\n",
      "  warnings.warn(\n"
     ]
    }
   ],
   "source": [
    "prediction_using_funtion = get_prediction(df)"
   ]
  },
  {
   "cell_type": "code",
   "execution_count": 70,
   "metadata": {},
   "outputs": [],
   "source": [
    "def preprocess_data(df, scaler, n_steps_in):\n",
    "    # Ensure the dataframe has the same columns as the training data\n",
    "    # Scale the data\n",
    "    df_scaled = scaler.transform(df)\n",
    "    \n",
    "    # Create sequences\n",
    "    X = []\n",
    "    for i in range(len(df_scaled) - n_steps_in + 1):\n",
    "        X.append(df_scaled[i:i+n_steps_in, :])\n",
    "    \n",
    "    return np.array(X)\n",
    "\n",
    "def postprocess_predictions(predictions, scaler):\n",
    "    # Convert predictions to a 2D array (n_samples, 1)\n",
    "    predictions = np.array(predictions).reshape(-1, 1)\n",
    "    \n",
    "    # Create dummy columns for the rainfall data (which won't be used)\n",
    "    dummy_rainfall = np.zeros((predictions.shape[0], 4))  # 4 columns for rainfall\n",
    "\n",
    "    # Concatenate the predictions (water levels) with the dummy rainfall data\n",
    "    predictions_with_rainfall = np.hstack((dummy_rainfall, predictions))\n",
    "\n",
    "    # Apply inverse_transform\n",
    "    inverse_scaled_predictions = scaler.inverse_transform(predictions_with_rainfall)\n",
    "\n",
    "    # Return only the water level column\n",
    "    return inverse_scaled_predictions[:, -1]"
   ]
  },
  {
   "cell_type": "code",
   "execution_count": 71,
   "metadata": {},
   "outputs": [],
   "source": [
    "def predict_water_levels(df, n_steps_in, n_steps_out):\n",
    "    # Fetch and preprocess data\n",
    "\n",
    "    # Ensure you use the same scaler as the one used during training\n",
    "    X = preprocess_data(df, scaler, n_steps_in)\n",
    "\n",
    "    # Make predictions for the next 4 hours\n",
    "    predictions = model.predict(X)\n",
    "\n",
    "    # Post-process predictions (inverse transform to get actual water levels)\n",
    "    predictions = postprocess_predictions(predictions, scaler)\n",
    "\n",
    "    return predictions\n",
    "\n",
    "n_steps_in = 48 \n",
    "n_steps_out = 4"
   ]
  },
  {
   "cell_type": "code",
   "execution_count": 74,
   "metadata": {},
   "outputs": [
    {
     "name": "stdout",
     "output_type": "stream",
     "text": [
      "[1.43321285 1.4177419  1.40852864 1.40131699]\n"
     ]
    }
   ],
   "source": [
    "print(prediction_using_funtion)"
   ]
  },
  {
   "cell_type": "code",
   "execution_count": 66,
   "metadata": {},
   "outputs": [
    {
     "name": "stderr",
     "output_type": "stream",
     "text": [
      "/home/nightwing/anaconda3/envs/DL/lib/python3.10/site-packages/sklearn/base.py:486: UserWarning: X has feature names, but MinMaxScaler was fitted without feature names\n",
      "  warnings.warn(\n"
     ]
    },
    {
     "name": "stdout",
     "output_type": "stream",
     "text": [
      "\u001b[1m1/1\u001b[0m \u001b[32m━━━━━━━━━━━━━━━━━━━━\u001b[0m\u001b[37m\u001b[0m \u001b[1m0s\u001b[0m 93ms/step\n"
     ]
    }
   ],
   "source": [
    "prediction_of_df_from_experiments = predict_water_levels(df_from_experiments,n_steps_in, n_steps_out )"
   ]
  },
  {
   "cell_type": "code",
   "execution_count": 67,
   "metadata": {},
   "outputs": [
    {
     "name": "stdout",
     "output_type": "stream",
     "text": [
      "[1.33921038 1.33601614 1.33699631 1.33688519]\n",
      "predicted values  [1.33921038 1.33601614 1.33699631 1.33688519]\n"
     ]
    }
   ],
   "source": [
    "print(prediction_of_df_from_experiments)\n",
    "print(\"predicted values \", prediction_next_4_hours)"
   ]
  },
  {
   "cell_type": "code",
   "execution_count": 75,
   "metadata": {},
   "outputs": [],
   "source": [
    "df_new = pd.read_csv(\"/home/nightwing/Codes/LSTM_for_waterlevel_prediction/data/data_20240910_144355.csv\")"
   ]
  },
  {
   "cell_type": "code",
   "execution_count": 81,
   "metadata": {},
   "outputs": [
    {
     "data": {
      "text/html": [
       "<div>\n",
       "<style scoped>\n",
       "    .dataframe tbody tr th:only-of-type {\n",
       "        vertical-align: middle;\n",
       "    }\n",
       "\n",
       "    .dataframe tbody tr th {\n",
       "        vertical-align: top;\n",
       "    }\n",
       "\n",
       "    .dataframe thead th {\n",
       "        text-align: right;\n",
       "    }\n",
       "</style>\n",
       "<table border=\"1\" class=\"dataframe\">\n",
       "  <thead>\n",
       "    <tr style=\"text-align: right;\">\n",
       "      <th></th>\n",
       "      <th>Timestamp</th>\n",
       "      <th>Rainfall at Nayabazar - Namsaling</th>\n",
       "      <th>Rainfall at Sandakpur - Valley</th>\n",
       "      <th>Water Level at Mai Khola</th>\n",
       "      <th>Rainfall at Mai Beni</th>\n",
       "      <th>Rainfall at Pashupatingar</th>\n",
       "      <th>Rainfall at Sandakpur - Hilltop</th>\n",
       "    </tr>\n",
       "  </thead>\n",
       "  <tbody>\n",
       "    <tr>\n",
       "      <th>0</th>\n",
       "      <td>2024-09-04T00:00:00+00:00</td>\n",
       "      <td>0.0</td>\n",
       "      <td>0.0</td>\n",
       "      <td>NaN</td>\n",
       "      <td>0.0</td>\n",
       "      <td>0.0</td>\n",
       "      <td>0.0</td>\n",
       "    </tr>\n",
       "    <tr>\n",
       "      <th>1</th>\n",
       "      <td>2024-09-04T00:05:00+00:00</td>\n",
       "      <td>NaN</td>\n",
       "      <td>NaN</td>\n",
       "      <td>1.344000</td>\n",
       "      <td>0.0</td>\n",
       "      <td>0.0</td>\n",
       "      <td>0.0</td>\n",
       "    </tr>\n",
       "    <tr>\n",
       "      <th>2</th>\n",
       "      <td>2024-09-04T00:15:00+00:00</td>\n",
       "      <td>0.0</td>\n",
       "      <td>0.0</td>\n",
       "      <td>1.342999</td>\n",
       "      <td>0.0</td>\n",
       "      <td>0.0</td>\n",
       "      <td>0.0</td>\n",
       "    </tr>\n",
       "    <tr>\n",
       "      <th>3</th>\n",
       "      <td>2024-09-04T00:25:00+00:00</td>\n",
       "      <td>NaN</td>\n",
       "      <td>NaN</td>\n",
       "      <td>1.348000</td>\n",
       "      <td>0.0</td>\n",
       "      <td>0.0</td>\n",
       "      <td>0.0</td>\n",
       "    </tr>\n",
       "    <tr>\n",
       "      <th>4</th>\n",
       "      <td>2024-09-04T00:30:00+00:00</td>\n",
       "      <td>0.0</td>\n",
       "      <td>0.0</td>\n",
       "      <td>NaN</td>\n",
       "      <td>0.0</td>\n",
       "      <td>0.0</td>\n",
       "      <td>0.0</td>\n",
       "    </tr>\n",
       "  </tbody>\n",
       "</table>\n",
       "</div>"
      ],
      "text/plain": [
       "                   Timestamp  Rainfall at Nayabazar - Namsaling  \\\n",
       "0  2024-09-04T00:00:00+00:00                                0.0   \n",
       "1  2024-09-04T00:05:00+00:00                                NaN   \n",
       "2  2024-09-04T00:15:00+00:00                                0.0   \n",
       "3  2024-09-04T00:25:00+00:00                                NaN   \n",
       "4  2024-09-04T00:30:00+00:00                                0.0   \n",
       "\n",
       "   Rainfall at Sandakpur - Valley  Water Level at Mai Khola  \\\n",
       "0                             0.0                       NaN   \n",
       "1                             NaN                  1.344000   \n",
       "2                             0.0                  1.342999   \n",
       "3                             NaN                  1.348000   \n",
       "4                             0.0                       NaN   \n",
       "\n",
       "   Rainfall at Mai Beni  Rainfall at Pashupatingar  \\\n",
       "0                   0.0                        0.0   \n",
       "1                   0.0                        0.0   \n",
       "2                   0.0                        0.0   \n",
       "3                   0.0                        0.0   \n",
       "4                   0.0                        0.0   \n",
       "\n",
       "   Rainfall at Sandakpur - Hilltop  \n",
       "0                              0.0  \n",
       "1                              0.0  \n",
       "2                              0.0  \n",
       "3                              0.0  \n",
       "4                              0.0  "
      ]
     },
     "execution_count": 81,
     "metadata": {},
     "output_type": "execute_result"
    }
   ],
   "source": [
    "df_new.head(5)"
   ]
  },
  {
   "cell_type": "code",
   "execution_count": 77,
   "metadata": {},
   "outputs": [
    {
     "data": {
      "text/plain": [
       "Timestamp                              0\n",
       "Rainfall at Nayabazar - Namsaling    298\n",
       "Rainfall at Sandakpur - Valley       298\n",
       "Water Level at Mai Khola             149\n",
       "Rainfall at Mai Beni                   0\n",
       "Rainfall at Pashupatingar              0\n",
       "Rainfall at Sandakpur - Hilltop        0\n",
       "dtype: int64"
      ]
     },
     "execution_count": 77,
     "metadata": {},
     "output_type": "execute_result"
    }
   ],
   "source": [
    "df_new.isna().sum()"
   ]
  },
  {
   "cell_type": "code",
   "execution_count": 79,
   "metadata": {},
   "outputs": [
    {
     "data": {
      "text/plain": [
       "(596, 7)"
      ]
     },
     "execution_count": 79,
     "metadata": {},
     "output_type": "execute_result"
    }
   ],
   "source": [
    "df_new.shape"
   ]
  },
  {
   "cell_type": "code",
   "execution_count": 82,
   "metadata": {},
   "outputs": [
    {
     "name": "stdout",
     "output_type": "stream",
     "text": [
      "                   Timestamp  Rainfall at Nayabazar - Namsaling  \\\n",
      "0 2024-09-08 15:59:14.219827                          14.017100   \n",
      "1 2024-09-08 16:59:14.219827                           3.698922   \n",
      "2 2024-09-08 17:59:14.219827                          15.499628   \n",
      "3 2024-09-08 18:59:14.219827                          42.629796   \n",
      "4 2024-09-08 19:59:14.219827                           8.096728   \n",
      "\n",
      "   Rainfall at Sandakpur - Valley  Water Level at Mai Khola  \\\n",
      "0                       12.918342                  2.017482   \n",
      "1                       10.420033                  4.507707   \n",
      "2                        9.427041                  3.539659   \n",
      "3                       31.431649                  0.384338   \n",
      "4                       12.081485                  1.202065   \n",
      "\n",
      "   Rainfall at Mai Beni  Rainfall at Pashupatingar  \\\n",
      "0              0.580746                   5.565288   \n",
      "1             21.131611                  36.932308   \n",
      "2             12.547444                  14.478444   \n",
      "3             15.396991                  26.545040   \n",
      "4             33.883530                  12.794084   \n",
      "\n",
      "   Rainfall at Sandakpur - Hilltop  \n",
      "0                        27.262587  \n",
      "1                        31.468631  \n",
      "2                         3.632968  \n",
      "3                        24.122267  \n",
      "4                        20.959802  \n"
     ]
    },
    {
     "name": "stderr",
     "output_type": "stream",
     "text": [
      "/tmp/ipykernel_19765/2017209334.py:5: FutureWarning: 'H' is deprecated and will be removed in a future version, please use 'h' instead.\n",
      "  timestamps = pd.date_range(end=pd.Timestamp.now(), periods=48, freq='H')\n"
     ]
    }
   ],
   "source": [
    "import pandas as pd\n",
    "import numpy as np\n",
    "\n",
    "# Generate a timestamp range for the past 48 hours with 1-hour intervals\n",
    "timestamps = pd.date_range(end=pd.Timestamp.now(), periods=48, freq='H')\n",
    "\n",
    "# Generate random data for rainfall and water level, avoiding missing values\n",
    "# Using plausible values for rainfall (0-50 mm) and water level (0-5 meters)\n",
    "data = {\n",
    "    \"Timestamp\": timestamps,\n",
    "    \"Rainfall at Nayabazar - Namsaling\": np.random.uniform(0, 50, len(timestamps)),\n",
    "    \"Rainfall at Sandakpur - Valley\": np.random.uniform(0, 50, len(timestamps)),\n",
    "    \"Water Level at Mai Khola\": np.random.uniform(0, 5, len(timestamps)),\n",
    "    \"Rainfall at Mai Beni\": np.random.uniform(0, 50, len(timestamps)),\n",
    "    \"Rainfall at Pashupatingar\": np.random.uniform(0, 50, len(timestamps)),\n",
    "    \"Rainfall at Sandakpur - Hilltop\": np.random.uniform(0, 50, len(timestamps)),\n",
    "}\n",
    "\n",
    "# Create a DataFrame\n",
    "fake_data_df = pd.DataFrame(data)\n",
    "\n",
    "# Optionally, display the first few rows to verify\n",
    "print(fake_data_df.head())\n",
    "\n",
    "# Save the data to a CSV file if needed\n",
    "fake_data_df.to_csv('fake_rainfall_waterlevel_data.csv', index=False)\n"
   ]
  },
  {
   "cell_type": "code",
   "execution_count": 83,
   "metadata": {},
   "outputs": [
    {
     "data": {
      "text/html": [
       "<div>\n",
       "<style scoped>\n",
       "    .dataframe tbody tr th:only-of-type {\n",
       "        vertical-align: middle;\n",
       "    }\n",
       "\n",
       "    .dataframe tbody tr th {\n",
       "        vertical-align: top;\n",
       "    }\n",
       "\n",
       "    .dataframe thead th {\n",
       "        text-align: right;\n",
       "    }\n",
       "</style>\n",
       "<table border=\"1\" class=\"dataframe\">\n",
       "  <thead>\n",
       "    <tr style=\"text-align: right;\">\n",
       "      <th></th>\n",
       "      <th>Timestamp</th>\n",
       "      <th>Rainfall at Nayabazar - Namsaling</th>\n",
       "      <th>Rainfall at Sandakpur - Valley</th>\n",
       "      <th>Water Level at Mai Khola</th>\n",
       "      <th>Rainfall at Mai Beni</th>\n",
       "      <th>Rainfall at Pashupatingar</th>\n",
       "      <th>Rainfall at Sandakpur - Hilltop</th>\n",
       "    </tr>\n",
       "  </thead>\n",
       "  <tbody>\n",
       "    <tr>\n",
       "      <th>0</th>\n",
       "      <td>2024-09-08 15:59:14.219827</td>\n",
       "      <td>14.017100</td>\n",
       "      <td>12.918342</td>\n",
       "      <td>2.017482</td>\n",
       "      <td>0.580746</td>\n",
       "      <td>5.565288</td>\n",
       "      <td>27.262587</td>\n",
       "    </tr>\n",
       "    <tr>\n",
       "      <th>1</th>\n",
       "      <td>2024-09-08 16:59:14.219827</td>\n",
       "      <td>3.698922</td>\n",
       "      <td>10.420033</td>\n",
       "      <td>4.507707</td>\n",
       "      <td>21.131611</td>\n",
       "      <td>36.932308</td>\n",
       "      <td>31.468631</td>\n",
       "    </tr>\n",
       "    <tr>\n",
       "      <th>2</th>\n",
       "      <td>2024-09-08 17:59:14.219827</td>\n",
       "      <td>15.499628</td>\n",
       "      <td>9.427041</td>\n",
       "      <td>3.539659</td>\n",
       "      <td>12.547444</td>\n",
       "      <td>14.478444</td>\n",
       "      <td>3.632968</td>\n",
       "    </tr>\n",
       "    <tr>\n",
       "      <th>3</th>\n",
       "      <td>2024-09-08 18:59:14.219827</td>\n",
       "      <td>42.629796</td>\n",
       "      <td>31.431649</td>\n",
       "      <td>0.384338</td>\n",
       "      <td>15.396991</td>\n",
       "      <td>26.545040</td>\n",
       "      <td>24.122267</td>\n",
       "    </tr>\n",
       "    <tr>\n",
       "      <th>4</th>\n",
       "      <td>2024-09-08 19:59:14.219827</td>\n",
       "      <td>8.096728</td>\n",
       "      <td>12.081485</td>\n",
       "      <td>1.202065</td>\n",
       "      <td>33.883530</td>\n",
       "      <td>12.794084</td>\n",
       "      <td>20.959802</td>\n",
       "    </tr>\n",
       "  </tbody>\n",
       "</table>\n",
       "</div>"
      ],
      "text/plain": [
       "                   Timestamp  Rainfall at Nayabazar - Namsaling  \\\n",
       "0 2024-09-08 15:59:14.219827                          14.017100   \n",
       "1 2024-09-08 16:59:14.219827                           3.698922   \n",
       "2 2024-09-08 17:59:14.219827                          15.499628   \n",
       "3 2024-09-08 18:59:14.219827                          42.629796   \n",
       "4 2024-09-08 19:59:14.219827                           8.096728   \n",
       "\n",
       "   Rainfall at Sandakpur - Valley  Water Level at Mai Khola  \\\n",
       "0                       12.918342                  2.017482   \n",
       "1                       10.420033                  4.507707   \n",
       "2                        9.427041                  3.539659   \n",
       "3                       31.431649                  0.384338   \n",
       "4                       12.081485                  1.202065   \n",
       "\n",
       "   Rainfall at Mai Beni  Rainfall at Pashupatingar  \\\n",
       "0              0.580746                   5.565288   \n",
       "1             21.131611                  36.932308   \n",
       "2             12.547444                  14.478444   \n",
       "3             15.396991                  26.545040   \n",
       "4             33.883530                  12.794084   \n",
       "\n",
       "   Rainfall at Sandakpur - Hilltop  \n",
       "0                        27.262587  \n",
       "1                        31.468631  \n",
       "2                         3.632968  \n",
       "3                        24.122267  \n",
       "4                        20.959802  "
      ]
     },
     "execution_count": 83,
     "metadata": {},
     "output_type": "execute_result"
    }
   ],
   "source": [
    "fake_data_df.head()"
   ]
  },
  {
   "cell_type": "code",
   "execution_count": null,
   "metadata": {},
   "outputs": [],
   "source": []
  }
 ],
 "metadata": {
  "kernelspec": {
   "display_name": "DL",
   "language": "python",
   "name": "python3"
  },
  "language_info": {
   "codemirror_mode": {
    "name": "ipython",
    "version": 3
   },
   "file_extension": ".py",
   "mimetype": "text/x-python",
   "name": "python",
   "nbconvert_exporter": "python",
   "pygments_lexer": "ipython3",
   "version": "3.10.14"
  }
 },
 "nbformat": 4,
 "nbformat_minor": 2
}
